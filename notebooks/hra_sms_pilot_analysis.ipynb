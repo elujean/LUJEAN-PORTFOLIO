{
 "cells": [
  {
   "cell_type": "markdown",
   "id": "d8a18914",
   "metadata": {},
   "source": [
    "\n",
    "# SMS Outreach Pilot — Technical Notebook\n",
    "\n",
    "**Author:** Lujean El‑Hadri  \n",
    "**Purpose:** Document the data preparation, scoring approach, and visuals that power the **SMS Outreach Pilot** dashboard.  \n",
    "\n",
    "\n",
    "---\n",
    "\n",
    "## Business Goal\n",
    "\n",
    "Increase **HRA completions** in a D‑SNP/Medicare population by:\n",
    "- Prioritizing outreach to members most likely to convert and/or with greatest need,\n",
    "- Using **SMS** as the primary channel when consent is present,\n",
    "- Providing a clear **BI dashboard** for real‑time monitoring and triage.\n",
    "\n",
    "**Key Questions this analysis supports:**\n",
    "1. How are members distributed across **outreach_priority** levels?\n",
    "2. Among those with and without **text_opt_in**, where are the biggest pockets of opportunity?\n",
    "3. Where do we see higher **ER utilization** (proxy for risk) that may require white‑glove outreach?\n",
    "4. Which members should be **top targets** today?\n",
    "\n",
    "> This notebook powers the dashboard and serves as a reproducible, transparent reference.\n"
   ]
  },
  {
   "cell_type": "markdown",
   "id": "0222e8c8",
   "metadata": {},
   "source": [
    "\n",
    "## Data Dictionary (columns expected)\n",
    "\n",
    "- `member_id` — unique identifier for a member  \n",
    "- `outreach_score` — numeric score (higher = higher priority)  \n",
    "- `outreach_priority` — **Low / Medium / High** (derived from score thresholds)  \n",
    "- `hra_overdue_days` — days overdue for HRA  \n",
    "- `text_opt_in` — 1 if member gave SMS consent, else 0  \n",
    "- `er_visit_count` — recent ER visits count (or proxy measure)  \n",
    "- `chronic_conditions` — count of chronic conditions\n",
    "\n",
    "> If some columns are missing, the notebook will still run and skip related outputs.\n"
   ]
  },
  {
   "cell_type": "code",
   "execution_count": 6,
   "id": "2b0fe8b9",
   "metadata": {},
   "outputs": [
    {
     "ename": "AssertionError",
     "evalue": "Dataset not found: \\mnt\\data\\sms_outreach_ranked.csv",
     "output_type": "error",
     "traceback": [
      "\u001b[31m---------------------------------------------------------------------------\u001b[39m",
      "\u001b[31mAssertionError\u001b[39m                            Traceback (most recent call last)",
      "\u001b[36mCell\u001b[39m\u001b[36m \u001b[39m\u001b[32mIn[6]\u001b[39m\u001b[32m, line 8\u001b[39m\n\u001b[32m      5\u001b[39m \u001b[38;5;28;01mfrom\u001b[39;00m\u001b[38;5;250m \u001b[39m\u001b[34;01mpathlib\u001b[39;00m\u001b[38;5;250m \u001b[39m\u001b[38;5;28;01mimport\u001b[39;00m Path\n\u001b[32m      7\u001b[39m DATASET = Path(\u001b[33mr\u001b[39m\u001b[33m\"\u001b[39m\u001b[33m/mnt/data/sms_outreach_ranked.csv\u001b[39m\u001b[33m\"\u001b[39m)\n\u001b[32m----> \u001b[39m\u001b[32m8\u001b[39m \u001b[38;5;28;01massert\u001b[39;00m DATASET.exists(), \u001b[33mf\u001b[39m\u001b[33m\"\u001b[39m\u001b[33mDataset not found: \u001b[39m\u001b[38;5;132;01m{\u001b[39;00mDATASET\u001b[38;5;132;01m}\u001b[39;00m\u001b[33m\"\u001b[39m\n\u001b[32m     10\u001b[39m pd.options.display.float_format = \u001b[38;5;28;01mlambda\u001b[39;00m x: \u001b[33mf\u001b[39m\u001b[33m\"\u001b[39m\u001b[38;5;132;01m{\u001b[39;00mx\u001b[38;5;132;01m:\u001b[39;00m\u001b[33m,.2f\u001b[39m\u001b[38;5;132;01m}\u001b[39;00m\u001b[33m\"\u001b[39m\n",
      "\u001b[31mAssertionError\u001b[39m: Dataset not found: \\mnt\\data\\sms_outreach_ranked.csv"
     ]
    }
   ],
   "source": [
    "import pandas as pd\n",
    "import numpy as np\n",
    "import plotly.express as px\n",
    "\n",
    "from pathlib import Path\n",
    "\n",
    "DATASET = Path(r\"/mnt/data/sms_outreach_ranked.csv\")\n",
    "assert DATASET.exists(), f\"Dataset not found: {DATASET}\"\n",
    "\n",
    "pd.options.display.float_format = lambda x: f\"{x:,.2f}\"\n"
   ]
  },
  {
   "cell_type": "code",
   "execution_count": null,
   "id": "6ff3f680",
   "metadata": {},
   "outputs": [
    {
     "ename": "FileNotFoundError",
     "evalue": "[Errno 2] No such file or directory: '\\\\mnt\\\\data\\\\sms_outreach_ranked.csv'",
     "output_type": "error",
     "traceback": [
      "\u001b[31m---------------------------------------------------------------------------\u001b[39m",
      "\u001b[31mFileNotFoundError\u001b[39m                         Traceback (most recent call last)",
      "\u001b[36mCell\u001b[39m\u001b[36m \u001b[39m\u001b[32mIn[6]\u001b[39m\u001b[32m, line 2\u001b[39m\n\u001b[32m      1\u001b[39m \u001b[38;5;66;03m# --- Load data\u001b[39;00m\n\u001b[32m----> \u001b[39m\u001b[32m2\u001b[39m df = \u001b[43mpd\u001b[49m\u001b[43m.\u001b[49m\u001b[43mread_csv\u001b[49m\u001b[43m(\u001b[49m\u001b[43mDATASET\u001b[49m\u001b[43m)\u001b[49m\n\u001b[32m      3\u001b[39m df.columns = [c.strip().lower() \u001b[38;5;28;01mfor\u001b[39;00m c \u001b[38;5;129;01min\u001b[39;00m df.columns]\n\u001b[32m      5\u001b[39m \u001b[38;5;28mprint\u001b[39m(\u001b[33m\"\u001b[39m\u001b[33mRows:\u001b[39m\u001b[33m\"\u001b[39m, \u001b[38;5;28mlen\u001b[39m(df))\n",
      "\u001b[36mFile \u001b[39m\u001b[32mc:\\Users\\eluje\\OneDrive\\Documents\\Lujean Important Docs\\Portfolio-Mock Projects\\lujean-portfolio1\\.venv\\Lib\\site-packages\\pandas\\io\\parsers\\readers.py:1026\u001b[39m, in \u001b[36mread_csv\u001b[39m\u001b[34m(filepath_or_buffer, sep, delimiter, header, names, index_col, usecols, dtype, engine, converters, true_values, false_values, skipinitialspace, skiprows, skipfooter, nrows, na_values, keep_default_na, na_filter, verbose, skip_blank_lines, parse_dates, infer_datetime_format, keep_date_col, date_parser, date_format, dayfirst, cache_dates, iterator, chunksize, compression, thousands, decimal, lineterminator, quotechar, quoting, doublequote, escapechar, comment, encoding, encoding_errors, dialect, on_bad_lines, delim_whitespace, low_memory, memory_map, float_precision, storage_options, dtype_backend)\u001b[39m\n\u001b[32m   1013\u001b[39m kwds_defaults = _refine_defaults_read(\n\u001b[32m   1014\u001b[39m     dialect,\n\u001b[32m   1015\u001b[39m     delimiter,\n\u001b[32m   (...)\u001b[39m\u001b[32m   1022\u001b[39m     dtype_backend=dtype_backend,\n\u001b[32m   1023\u001b[39m )\n\u001b[32m   1024\u001b[39m kwds.update(kwds_defaults)\n\u001b[32m-> \u001b[39m\u001b[32m1026\u001b[39m \u001b[38;5;28;01mreturn\u001b[39;00m \u001b[43m_read\u001b[49m\u001b[43m(\u001b[49m\u001b[43mfilepath_or_buffer\u001b[49m\u001b[43m,\u001b[49m\u001b[43m \u001b[49m\u001b[43mkwds\u001b[49m\u001b[43m)\u001b[49m\n",
      "\u001b[36mFile \u001b[39m\u001b[32mc:\\Users\\eluje\\OneDrive\\Documents\\Lujean Important Docs\\Portfolio-Mock Projects\\lujean-portfolio1\\.venv\\Lib\\site-packages\\pandas\\io\\parsers\\readers.py:620\u001b[39m, in \u001b[36m_read\u001b[39m\u001b[34m(filepath_or_buffer, kwds)\u001b[39m\n\u001b[32m    617\u001b[39m _validate_names(kwds.get(\u001b[33m\"\u001b[39m\u001b[33mnames\u001b[39m\u001b[33m\"\u001b[39m, \u001b[38;5;28;01mNone\u001b[39;00m))\n\u001b[32m    619\u001b[39m \u001b[38;5;66;03m# Create the parser.\u001b[39;00m\n\u001b[32m--> \u001b[39m\u001b[32m620\u001b[39m parser = \u001b[43mTextFileReader\u001b[49m\u001b[43m(\u001b[49m\u001b[43mfilepath_or_buffer\u001b[49m\u001b[43m,\u001b[49m\u001b[43m \u001b[49m\u001b[43m*\u001b[49m\u001b[43m*\u001b[49m\u001b[43mkwds\u001b[49m\u001b[43m)\u001b[49m\n\u001b[32m    622\u001b[39m \u001b[38;5;28;01mif\u001b[39;00m chunksize \u001b[38;5;129;01mor\u001b[39;00m iterator:\n\u001b[32m    623\u001b[39m     \u001b[38;5;28;01mreturn\u001b[39;00m parser\n",
      "\u001b[36mFile \u001b[39m\u001b[32mc:\\Users\\eluje\\OneDrive\\Documents\\Lujean Important Docs\\Portfolio-Mock Projects\\lujean-portfolio1\\.venv\\Lib\\site-packages\\pandas\\io\\parsers\\readers.py:1620\u001b[39m, in \u001b[36mTextFileReader.__init__\u001b[39m\u001b[34m(self, f, engine, **kwds)\u001b[39m\n\u001b[32m   1617\u001b[39m     \u001b[38;5;28mself\u001b[39m.options[\u001b[33m\"\u001b[39m\u001b[33mhas_index_names\u001b[39m\u001b[33m\"\u001b[39m] = kwds[\u001b[33m\"\u001b[39m\u001b[33mhas_index_names\u001b[39m\u001b[33m\"\u001b[39m]\n\u001b[32m   1619\u001b[39m \u001b[38;5;28mself\u001b[39m.handles: IOHandles | \u001b[38;5;28;01mNone\u001b[39;00m = \u001b[38;5;28;01mNone\u001b[39;00m\n\u001b[32m-> \u001b[39m\u001b[32m1620\u001b[39m \u001b[38;5;28mself\u001b[39m._engine = \u001b[38;5;28;43mself\u001b[39;49m\u001b[43m.\u001b[49m\u001b[43m_make_engine\u001b[49m\u001b[43m(\u001b[49m\u001b[43mf\u001b[49m\u001b[43m,\u001b[49m\u001b[43m \u001b[49m\u001b[38;5;28;43mself\u001b[39;49m\u001b[43m.\u001b[49m\u001b[43mengine\u001b[49m\u001b[43m)\u001b[49m\n",
      "\u001b[36mFile \u001b[39m\u001b[32mc:\\Users\\eluje\\OneDrive\\Documents\\Lujean Important Docs\\Portfolio-Mock Projects\\lujean-portfolio1\\.venv\\Lib\\site-packages\\pandas\\io\\parsers\\readers.py:1880\u001b[39m, in \u001b[36mTextFileReader._make_engine\u001b[39m\u001b[34m(self, f, engine)\u001b[39m\n\u001b[32m   1878\u001b[39m     \u001b[38;5;28;01mif\u001b[39;00m \u001b[33m\"\u001b[39m\u001b[33mb\u001b[39m\u001b[33m\"\u001b[39m \u001b[38;5;129;01mnot\u001b[39;00m \u001b[38;5;129;01min\u001b[39;00m mode:\n\u001b[32m   1879\u001b[39m         mode += \u001b[33m\"\u001b[39m\u001b[33mb\u001b[39m\u001b[33m\"\u001b[39m\n\u001b[32m-> \u001b[39m\u001b[32m1880\u001b[39m \u001b[38;5;28mself\u001b[39m.handles = \u001b[43mget_handle\u001b[49m\u001b[43m(\u001b[49m\n\u001b[32m   1881\u001b[39m \u001b[43m    \u001b[49m\u001b[43mf\u001b[49m\u001b[43m,\u001b[49m\n\u001b[32m   1882\u001b[39m \u001b[43m    \u001b[49m\u001b[43mmode\u001b[49m\u001b[43m,\u001b[49m\n\u001b[32m   1883\u001b[39m \u001b[43m    \u001b[49m\u001b[43mencoding\u001b[49m\u001b[43m=\u001b[49m\u001b[38;5;28;43mself\u001b[39;49m\u001b[43m.\u001b[49m\u001b[43moptions\u001b[49m\u001b[43m.\u001b[49m\u001b[43mget\u001b[49m\u001b[43m(\u001b[49m\u001b[33;43m\"\u001b[39;49m\u001b[33;43mencoding\u001b[39;49m\u001b[33;43m\"\u001b[39;49m\u001b[43m,\u001b[49m\u001b[43m \u001b[49m\u001b[38;5;28;43;01mNone\u001b[39;49;00m\u001b[43m)\u001b[49m\u001b[43m,\u001b[49m\n\u001b[32m   1884\u001b[39m \u001b[43m    \u001b[49m\u001b[43mcompression\u001b[49m\u001b[43m=\u001b[49m\u001b[38;5;28;43mself\u001b[39;49m\u001b[43m.\u001b[49m\u001b[43moptions\u001b[49m\u001b[43m.\u001b[49m\u001b[43mget\u001b[49m\u001b[43m(\u001b[49m\u001b[33;43m\"\u001b[39;49m\u001b[33;43mcompression\u001b[39;49m\u001b[33;43m\"\u001b[39;49m\u001b[43m,\u001b[49m\u001b[43m \u001b[49m\u001b[38;5;28;43;01mNone\u001b[39;49;00m\u001b[43m)\u001b[49m\u001b[43m,\u001b[49m\n\u001b[32m   1885\u001b[39m \u001b[43m    \u001b[49m\u001b[43mmemory_map\u001b[49m\u001b[43m=\u001b[49m\u001b[38;5;28;43mself\u001b[39;49m\u001b[43m.\u001b[49m\u001b[43moptions\u001b[49m\u001b[43m.\u001b[49m\u001b[43mget\u001b[49m\u001b[43m(\u001b[49m\u001b[33;43m\"\u001b[39;49m\u001b[33;43mmemory_map\u001b[39;49m\u001b[33;43m\"\u001b[39;49m\u001b[43m,\u001b[49m\u001b[43m \u001b[49m\u001b[38;5;28;43;01mFalse\u001b[39;49;00m\u001b[43m)\u001b[49m\u001b[43m,\u001b[49m\n\u001b[32m   1886\u001b[39m \u001b[43m    \u001b[49m\u001b[43mis_text\u001b[49m\u001b[43m=\u001b[49m\u001b[43mis_text\u001b[49m\u001b[43m,\u001b[49m\n\u001b[32m   1887\u001b[39m \u001b[43m    \u001b[49m\u001b[43merrors\u001b[49m\u001b[43m=\u001b[49m\u001b[38;5;28;43mself\u001b[39;49m\u001b[43m.\u001b[49m\u001b[43moptions\u001b[49m\u001b[43m.\u001b[49m\u001b[43mget\u001b[49m\u001b[43m(\u001b[49m\u001b[33;43m\"\u001b[39;49m\u001b[33;43mencoding_errors\u001b[39;49m\u001b[33;43m\"\u001b[39;49m\u001b[43m,\u001b[49m\u001b[43m \u001b[49m\u001b[33;43m\"\u001b[39;49m\u001b[33;43mstrict\u001b[39;49m\u001b[33;43m\"\u001b[39;49m\u001b[43m)\u001b[49m\u001b[43m,\u001b[49m\n\u001b[32m   1888\u001b[39m \u001b[43m    \u001b[49m\u001b[43mstorage_options\u001b[49m\u001b[43m=\u001b[49m\u001b[38;5;28;43mself\u001b[39;49m\u001b[43m.\u001b[49m\u001b[43moptions\u001b[49m\u001b[43m.\u001b[49m\u001b[43mget\u001b[49m\u001b[43m(\u001b[49m\u001b[33;43m\"\u001b[39;49m\u001b[33;43mstorage_options\u001b[39;49m\u001b[33;43m\"\u001b[39;49m\u001b[43m,\u001b[49m\u001b[43m \u001b[49m\u001b[38;5;28;43;01mNone\u001b[39;49;00m\u001b[43m)\u001b[49m\u001b[43m,\u001b[49m\n\u001b[32m   1889\u001b[39m \u001b[43m\u001b[49m\u001b[43m)\u001b[49m\n\u001b[32m   1890\u001b[39m \u001b[38;5;28;01massert\u001b[39;00m \u001b[38;5;28mself\u001b[39m.handles \u001b[38;5;129;01mis\u001b[39;00m \u001b[38;5;129;01mnot\u001b[39;00m \u001b[38;5;28;01mNone\u001b[39;00m\n\u001b[32m   1891\u001b[39m f = \u001b[38;5;28mself\u001b[39m.handles.handle\n",
      "\u001b[36mFile \u001b[39m\u001b[32mc:\\Users\\eluje\\OneDrive\\Documents\\Lujean Important Docs\\Portfolio-Mock Projects\\lujean-portfolio1\\.venv\\Lib\\site-packages\\pandas\\io\\common.py:873\u001b[39m, in \u001b[36mget_handle\u001b[39m\u001b[34m(path_or_buf, mode, encoding, compression, memory_map, is_text, errors, storage_options)\u001b[39m\n\u001b[32m    868\u001b[39m \u001b[38;5;28;01melif\u001b[39;00m \u001b[38;5;28misinstance\u001b[39m(handle, \u001b[38;5;28mstr\u001b[39m):\n\u001b[32m    869\u001b[39m     \u001b[38;5;66;03m# Check whether the filename is to be opened in binary mode.\u001b[39;00m\n\u001b[32m    870\u001b[39m     \u001b[38;5;66;03m# Binary mode does not support 'encoding' and 'newline'.\u001b[39;00m\n\u001b[32m    871\u001b[39m     \u001b[38;5;28;01mif\u001b[39;00m ioargs.encoding \u001b[38;5;129;01mand\u001b[39;00m \u001b[33m\"\u001b[39m\u001b[33mb\u001b[39m\u001b[33m\"\u001b[39m \u001b[38;5;129;01mnot\u001b[39;00m \u001b[38;5;129;01min\u001b[39;00m ioargs.mode:\n\u001b[32m    872\u001b[39m         \u001b[38;5;66;03m# Encoding\u001b[39;00m\n\u001b[32m--> \u001b[39m\u001b[32m873\u001b[39m         handle = \u001b[38;5;28;43mopen\u001b[39;49m\u001b[43m(\u001b[49m\n\u001b[32m    874\u001b[39m \u001b[43m            \u001b[49m\u001b[43mhandle\u001b[49m\u001b[43m,\u001b[49m\n\u001b[32m    875\u001b[39m \u001b[43m            \u001b[49m\u001b[43mioargs\u001b[49m\u001b[43m.\u001b[49m\u001b[43mmode\u001b[49m\u001b[43m,\u001b[49m\n\u001b[32m    876\u001b[39m \u001b[43m            \u001b[49m\u001b[43mencoding\u001b[49m\u001b[43m=\u001b[49m\u001b[43mioargs\u001b[49m\u001b[43m.\u001b[49m\u001b[43mencoding\u001b[49m\u001b[43m,\u001b[49m\n\u001b[32m    877\u001b[39m \u001b[43m            \u001b[49m\u001b[43merrors\u001b[49m\u001b[43m=\u001b[49m\u001b[43merrors\u001b[49m\u001b[43m,\u001b[49m\n\u001b[32m    878\u001b[39m \u001b[43m            \u001b[49m\u001b[43mnewline\u001b[49m\u001b[43m=\u001b[49m\u001b[33;43m\"\u001b[39;49m\u001b[33;43m\"\u001b[39;49m\u001b[43m,\u001b[49m\n\u001b[32m    879\u001b[39m \u001b[43m        \u001b[49m\u001b[43m)\u001b[49m\n\u001b[32m    880\u001b[39m     \u001b[38;5;28;01melse\u001b[39;00m:\n\u001b[32m    881\u001b[39m         \u001b[38;5;66;03m# Binary mode\u001b[39;00m\n\u001b[32m    882\u001b[39m         handle = \u001b[38;5;28mopen\u001b[39m(handle, ioargs.mode)\n",
      "\u001b[31mFileNotFoundError\u001b[39m: [Errno 2] No such file or directory: '\\\\mnt\\\\data\\\\sms_outreach_ranked.csv'"
     ]
    }
   ],
   "source": [
    "df = pd.read_csv(DATASET)\n",
    "df.columns = [c.strip().lower() for c in df.columns]\n",
    "\n",
    "print(\"Rows:\", len(df))\n",
    "df.head(10)\n"
   ]
  },
  {
   "cell_type": "code",
   "execution_count": null,
   "id": "d2a9a1de",
   "metadata": {},
   "outputs": [
    {
     "ename": "NameError",
     "evalue": "name 'df' is not defined",
     "output_type": "error",
     "traceback": [
      "\u001b[31m---------------------------------------------------------------------------\u001b[39m",
      "\u001b[31mNameError\u001b[39m                                 Traceback (most recent call last)",
      "\u001b[36mCell\u001b[39m\u001b[36m \u001b[39m\u001b[32mIn[7]\u001b[39m\u001b[32m, line 3\u001b[39m\n\u001b[32m      1\u001b[39m \u001b[38;5;66;03m# --- Basic quality checks\u001b[39;00m\n\u001b[32m      2\u001b[39m summary = pd.DataFrame({\n\u001b[32m----> \u001b[39m\u001b[32m3\u001b[39m     \u001b[33m\"\u001b[39m\u001b[33mcolumn\u001b[39m\u001b[33m\"\u001b[39m: \u001b[43mdf\u001b[49m.columns,\n\u001b[32m      4\u001b[39m     \u001b[33m\"\u001b[39m\u001b[33mdtype\u001b[39m\u001b[33m\"\u001b[39m: [df[c].dtype \u001b[38;5;28;01mfor\u001b[39;00m c \u001b[38;5;129;01min\u001b[39;00m df.columns],\n\u001b[32m      5\u001b[39m     \u001b[33m\"\u001b[39m\u001b[33mnon_null\u001b[39m\u001b[33m\"\u001b[39m: [df[c].notna().sum() \u001b[38;5;28;01mfor\u001b[39;00m c \u001b[38;5;129;01min\u001b[39;00m df.columns],\n\u001b[32m      6\u001b[39m     \u001b[33m\"\u001b[39m\u001b[33mnulls\u001b[39m\u001b[33m\"\u001b[39m: [df[c].isna().sum() \u001b[38;5;28;01mfor\u001b[39;00m c \u001b[38;5;129;01min\u001b[39;00m df.columns]\n\u001b[32m      7\u001b[39m })\n\u001b[32m      8\u001b[39m summary\n",
      "\u001b[31mNameError\u001b[39m: name 'df' is not defined"
     ]
    }
   ],
   "source": [
    "summary = pd.DataFrame({\n",
    "    \"column\": df.columns,\n",
    "    \"dtype\": [df[c].dtype for c in df.columns],\n",
    "    \"non_null\": [df[c].notna().sum() for c in df.columns],\n",
    "    \"nulls\": [df[c].isna().sum() for c in df.columns]\n",
    "})\n",
    "summary\n"
   ]
  },
  {
   "cell_type": "markdown",
   "id": "e25e861d",
   "metadata": {},
   "source": [
    "\n",
    "## Scoring & Priority Buckets (reproducible rules)\n",
    "\n",
    "If `outreach_priority` is **missing**, we derive it from `outreach_score` using thresholds:\n",
    "- **High:** ≥ 60  \n",
    "- **Medium:** 50–59.99  \n",
    "- **Low:** < 50\n",
    "\n",
    "> These thresholds are configurable and should be tuned to business goals and capacity.\n"
   ]
  },
  {
   "cell_type": "code",
   "execution_count": 7,
   "id": "d0d9fdac",
   "metadata": {},
   "outputs": [
    {
     "ename": "NameError",
     "evalue": "name 'df' is not defined",
     "output_type": "error",
     "traceback": [
      "\u001b[31m---------------------------------------------------------------------------\u001b[39m",
      "\u001b[31mNameError\u001b[39m                                 Traceback (most recent call last)",
      "\u001b[36mCell\u001b[39m\u001b[36m \u001b[39m\u001b[32mIn[7]\u001b[39m\u001b[32m, line 1\u001b[39m\n\u001b[32m----> \u001b[39m\u001b[32m1\u001b[39m \u001b[38;5;28;01mif\u001b[39;00m \u001b[33m\"\u001b[39m\u001b[33moutreach_priority\u001b[39m\u001b[33m\"\u001b[39m \u001b[38;5;129;01mnot\u001b[39;00m \u001b[38;5;129;01min\u001b[39;00m \u001b[43mdf\u001b[49m.columns:\n\u001b[32m      2\u001b[39m     \u001b[38;5;28;01mif\u001b[39;00m \u001b[33m\"\u001b[39m\u001b[33moutreach_score\u001b[39m\u001b[33m\"\u001b[39m \u001b[38;5;129;01min\u001b[39;00m df.columns:\n\u001b[32m      3\u001b[39m         \u001b[38;5;28;01mdef\u001b[39;00m\u001b[38;5;250m \u001b[39m\u001b[34mbucket\u001b[39m(score):\n",
      "\u001b[31mNameError\u001b[39m: name 'df' is not defined"
     ]
    }
   ],
   "source": [
    "if \"outreach_priority\" not in df.columns:\n",
    "    if \"outreach_score\" in df.columns:\n",
    "        def bucket(score):\n",
    "            try:\n",
    "                if score >= 60: return \"High\"\n",
    "                if score >= 50: return \"Medium\"\n",
    "                return \"Low\"\n",
    "            except Exception:\n",
    "                return np.nan\n",
    "        df[\"outreach_priority\"] = df[\"outreach_score\"].apply(bucket)\n",
    "    else:\n",
    "        df[\"outreach_priority\"] = np.nan\n",
    "\n",
    "if \"text_opt_in\" in df.columns:\n",
    "    df[\"text_opt_in\"] = df[\"text_opt_in\"].fillna(0).astype(int)\n"
   ]
  },
  {
   "cell_type": "markdown",
   "id": "6cb7cf7b",
   "metadata": {},
   "source": [
    "\n",
    "## Overview Visuals (used in the BI dashboard)\n",
    "\n",
    "### 1) Priority Distribution (donut)\n"
   ]
  },
  {
   "cell_type": "code",
   "execution_count": 8,
   "id": "0883d2f9",
   "metadata": {},
   "outputs": [
    {
     "ename": "NameError",
     "evalue": "name 'df' is not defined",
     "output_type": "error",
     "traceback": [
      "\u001b[31m---------------------------------------------------------------------------\u001b[39m",
      "\u001b[31mNameError\u001b[39m                                 Traceback (most recent call last)",
      "\u001b[36mCell\u001b[39m\u001b[36m \u001b[39m\u001b[32mIn[8]\u001b[39m\u001b[32m, line 1\u001b[39m\n\u001b[32m----> \u001b[39m\u001b[32m1\u001b[39m \u001b[38;5;28;01mif\u001b[39;00m \u001b[33m\"\u001b[39m\u001b[33moutreach_priority\u001b[39m\u001b[33m\"\u001b[39m \u001b[38;5;129;01min\u001b[39;00m \u001b[43mdf\u001b[49m.columns:\n\u001b[32m      2\u001b[39m     pr = df[\u001b[33m\"\u001b[39m\u001b[33moutreach_priority\u001b[39m\u001b[33m\"\u001b[39m].value_counts(dropna=\u001b[38;5;28;01mFalse\u001b[39;00m).rename_axis(\u001b[33m\"\u001b[39m\u001b[33mpriority\u001b[39m\u001b[33m\"\u001b[39m).reset_index(name=\u001b[33m\"\u001b[39m\u001b[33mcount\u001b[39m\u001b[33m\"\u001b[39m)\n\u001b[32m      3\u001b[39m     fig = px.pie(pr, values=\u001b[33m\"\u001b[39m\u001b[33mcount\u001b[39m\u001b[33m\"\u001b[39m, names=\u001b[33m\"\u001b[39m\u001b[33mpriority\u001b[39m\u001b[33m\"\u001b[39m, hole=\u001b[32m0.55\u001b[39m,\n\u001b[32m      4\u001b[39m                  title=\u001b[33m\"\u001b[39m\u001b[33mOutreach Priority Distribution\u001b[39m\u001b[33m\"\u001b[39m)\n",
      "\u001b[31mNameError\u001b[39m: name 'df' is not defined"
     ]
    }
   ],
   "source": [
    "if \"outreach_priority\" in df.columns:\n",
    "    pr = df[\"outreach_priority\"].value_counts(dropna=False).rename_axis(\"priority\").reset_index(name=\"count\")\n",
    "    fig = px.pie(pr, values=\"count\", names=\"priority\", hole=0.55,\n",
    "                 title=\"Outreach Priority Distribution\")\n",
    "    fig.update_traces(textposition=\"inside\", textinfo=\"percent+label\")\n",
    "    fig.show()\n",
    "else:\n",
    "    print(\"Column 'outreach_priority' not found; skipping donut chart.\")\n"
   ]
  },
  {
   "cell_type": "markdown",
   "id": "b9ae154a",
   "metadata": {},
   "source": [
    "\n",
    "### 2) Text Opt-In by Priority (stacked bars)\n"
   ]
  },
  {
   "cell_type": "code",
   "execution_count": 9,
   "id": "23c0a5bf",
   "metadata": {},
   "outputs": [
    {
     "ename": "NameError",
     "evalue": "name 'df' is not defined",
     "output_type": "error",
     "traceback": [
      "\u001b[31m---------------------------------------------------------------------------\u001b[39m",
      "\u001b[31mNameError\u001b[39m                                 Traceback (most recent call last)",
      "\u001b[36mCell\u001b[39m\u001b[36m \u001b[39m\u001b[32mIn[9]\u001b[39m\u001b[32m, line 1\u001b[39m\n\u001b[32m----> \u001b[39m\u001b[32m1\u001b[39m \u001b[38;5;28;01mif\u001b[39;00m \u001b[38;5;28mset\u001b[39m([\u001b[33m\"\u001b[39m\u001b[33moutreach_priority\u001b[39m\u001b[33m\"\u001b[39m,\u001b[33m\"\u001b[39m\u001b[33mtext_opt_in\u001b[39m\u001b[33m\"\u001b[39m]).issubset(\u001b[43mdf\u001b[49m.columns):\n\u001b[32m      2\u001b[39m     grp = (df.groupby([\u001b[33m\"\u001b[39m\u001b[33moutreach_priority\u001b[39m\u001b[33m\"\u001b[39m,\u001b[33m\"\u001b[39m\u001b[33mtext_opt_in\u001b[39m\u001b[33m\"\u001b[39m])[\u001b[33m\"\u001b[39m\u001b[33mmember_id\u001b[39m\u001b[33m\"\u001b[39m].count()\n\u001b[32m      3\u001b[39m              .reset_index(name=\u001b[33m\"\u001b[39m\u001b[33mcount\u001b[39m\u001b[33m\"\u001b[39m))\n\u001b[32m      4\u001b[39m     totals = grp.groupby(\u001b[33m\"\u001b[39m\u001b[33moutreach_priority\u001b[39m\u001b[33m\"\u001b[39m)[\u001b[33m\"\u001b[39m\u001b[33mcount\u001b[39m\u001b[33m\"\u001b[39m].transform(\u001b[33m\"\u001b[39m\u001b[33msum\u001b[39m\u001b[33m\"\u001b[39m)\n",
      "\u001b[31mNameError\u001b[39m: name 'df' is not defined"
     ]
    }
   ],
   "source": [
    "\n",
    "if set([\"outreach_priority\",\"text_opt_in\"]).issubset(df.columns):\n",
    "    grp = (df.groupby([\"outreach_priority\",\"text_opt_in\"])[\"member_id\"].count()\n",
    "             .reset_index(name=\"count\"))\n",
    "    totals = grp.groupby(\"outreach_priority\")[\"count\"].transform(\"sum\")\n",
    "    grp[\"pct\"] = grp[\"count\"] / totals * 100\n",
    "\n",
    "    fig = px.bar(grp.sort_values(\"outreach_priority\"),\n",
    "                 x=\"pct\", y=\"outreach_priority\",\n",
    "                 color=\"text_opt_in\", orientation=\"h\",\n",
    "                 title=\"Text Opt-In by Priority (share)\",\n",
    "                 labels={\"pct\":\"% of members\",\"outreach_priority\":\"Priority\",\"text_opt_in\":\"Opt-in\"})\n",
    "    fig.update_layout(barmode=\"stack\", xaxis_tickformat=\".1f\")\n",
    "    fig.show()\n",
    "else:\n",
    "    print(\"Required columns not found; skipping stacked bars.\")\n"
   ]
  },
  {
   "cell_type": "markdown",
   "id": "46c98b77",
   "metadata": {},
   "source": [
    "\n",
    "### 3) ER Utilization by Priority (bar)\n"
   ]
  },
  {
   "cell_type": "code",
   "execution_count": 10,
   "id": "4a203a46",
   "metadata": {},
   "outputs": [
    {
     "ename": "NameError",
     "evalue": "name 'df' is not defined",
     "output_type": "error",
     "traceback": [
      "\u001b[31m---------------------------------------------------------------------------\u001b[39m",
      "\u001b[31mNameError\u001b[39m                                 Traceback (most recent call last)",
      "\u001b[36mCell\u001b[39m\u001b[36m \u001b[39m\u001b[32mIn[10]\u001b[39m\u001b[32m, line 1\u001b[39m\n\u001b[32m----> \u001b[39m\u001b[32m1\u001b[39m \u001b[38;5;28;01mif\u001b[39;00m \u001b[38;5;28mset\u001b[39m([\u001b[33m\"\u001b[39m\u001b[33moutreach_priority\u001b[39m\u001b[33m\"\u001b[39m,\u001b[33m\"\u001b[39m\u001b[33mer_visit_count\u001b[39m\u001b[33m\"\u001b[39m]).issubset(\u001b[43mdf\u001b[49m.columns):\n\u001b[32m      2\u001b[39m     er = (df.groupby(\u001b[33m\"\u001b[39m\u001b[33moutreach_priority\u001b[39m\u001b[33m\"\u001b[39m)[\u001b[33m\"\u001b[39m\u001b[33mer_visit_count\u001b[39m\u001b[33m\"\u001b[39m].mean()\n\u001b[32m      3\u001b[39m             .reset_index(name=\u001b[33m\"\u001b[39m\u001b[33mavg_er_visits\u001b[39m\u001b[33m\"\u001b[39m))\n\u001b[32m      4\u001b[39m     fig = px.bar(er.sort_values(\u001b[33m\"\u001b[39m\u001b[33moutreach_priority\u001b[39m\u001b[33m\"\u001b[39m),\n\u001b[32m      5\u001b[39m                  x=\u001b[33m\"\u001b[39m\u001b[33moutreach_priority\u001b[39m\u001b[33m\"\u001b[39m, y=\u001b[33m\"\u001b[39m\u001b[33mavg_er_visits\u001b[39m\u001b[33m\"\u001b[39m,\n\u001b[32m      6\u001b[39m                  title=\u001b[33m\"\u001b[39m\u001b[33mAverage ER Visits by Priority\u001b[39m\u001b[33m\"\u001b[39m,\n\u001b[32m      7\u001b[39m                  labels={\u001b[33m\"\u001b[39m\u001b[33moutreach_priority\u001b[39m\u001b[33m\"\u001b[39m:\u001b[33m\"\u001b[39m\u001b[33mPriority\u001b[39m\u001b[33m\"\u001b[39m,\u001b[33m\"\u001b[39m\u001b[33mavg_er_visits\u001b[39m\u001b[33m\"\u001b[39m:\u001b[33m\"\u001b[39m\u001b[33mAverage ER visits\u001b[39m\u001b[33m\"\u001b[39m})\n",
      "\u001b[31mNameError\u001b[39m: name 'df' is not defined"
     ]
    }
   ],
   "source": [
    "\n",
    "if set([\"outreach_priority\",\"er_visit_count\"]).issubset(df.columns):\n",
    "    er = (df.groupby(\"outreach_priority\")[\"er_visit_count\"].mean()\n",
    "            .reset_index(name=\"avg_er_visits\"))\n",
    "    fig = px.bar(er.sort_values(\"outreach_priority\"),\n",
    "                 x=\"outreach_priority\", y=\"avg_er_visits\",\n",
    "                 title=\"Average ER Visits by Priority\",\n",
    "                 labels={\"outreach_priority\":\"Priority\",\"avg_er_visits\":\"Average ER visits\"})\n",
    "    fig.show()\n",
    "else:\n",
    "    print(\"Required columns not found; skipping ER chart.\")\n"
   ]
  },
  {
   "cell_type": "markdown",
   "id": "c8660549",
   "metadata": {},
   "source": [
    "\n",
    "## Top Outreach Targets\n"
   ]
  },
  {
   "cell_type": "code",
   "execution_count": 11,
   "id": "94692743",
   "metadata": {},
   "outputs": [
    {
     "ename": "NameError",
     "evalue": "name 'df' is not defined",
     "output_type": "error",
     "traceback": [
      "\u001b[31m---------------------------------------------------------------------------\u001b[39m",
      "\u001b[31mNameError\u001b[39m                                 Traceback (most recent call last)",
      "\u001b[36mCell\u001b[39m\u001b[36m \u001b[39m\u001b[32mIn[11]\u001b[39m\u001b[32m, line 1\u001b[39m\n\u001b[32m----> \u001b[39m\u001b[32m1\u001b[39m cols = [c \u001b[38;5;28;01mfor\u001b[39;00m c \u001b[38;5;129;01min\u001b[39;00m [\u001b[33m\"\u001b[39m\u001b[33mmember_id\u001b[39m\u001b[33m\"\u001b[39m,\u001b[33m\"\u001b[39m\u001b[33moutreach_score\u001b[39m\u001b[33m\"\u001b[39m,\u001b[33m\"\u001b[39m\u001b[33moutreach_priority\u001b[39m\u001b[33m\"\u001b[39m,\u001b[33m\"\u001b[39m\u001b[33mhra_overdue_days\u001b[39m\u001b[33m\"\u001b[39m,\u001b[33m\"\u001b[39m\u001b[33mtext_opt_in\u001b[39m\u001b[33m\"\u001b[39m,\u001b[33m\"\u001b[39m\u001b[33mer_visit_count\u001b[39m\u001b[33m\"\u001b[39m,\u001b[33m\"\u001b[39m\u001b[33mchronic_conditions\u001b[39m\u001b[33m\"\u001b[39m] \u001b[38;5;28;01mif\u001b[39;00m c \u001b[38;5;129;01min\u001b[39;00m \u001b[43mdf\u001b[49m.columns]\n\u001b[32m      2\u001b[39m sdf = df.copy()\n\u001b[32m      3\u001b[39m \u001b[38;5;28;01mif\u001b[39;00m \u001b[33m\"\u001b[39m\u001b[33moutreach_score\u001b[39m\u001b[33m\"\u001b[39m \u001b[38;5;129;01min\u001b[39;00m sdf.columns:\n",
      "\u001b[31mNameError\u001b[39m: name 'df' is not defined"
     ]
    }
   ],
   "source": [
    "\n",
    "cols = [c for c in [\"member_id\",\"outreach_score\",\"outreach_priority\",\"hra_overdue_days\",\"text_opt_in\",\"er_visit_count\",\"chronic_conditions\"] if c in df.columns]\n",
    "sdf = df.copy()\n",
    "if \"outreach_score\" in sdf.columns:\n",
    "    sdf = sdf.sort_values([\"outreach_score\",\"hra_overdue_days\"] if \"hra_overdue_days\" in sdf.columns else [\"outreach_score\"], ascending=False)\n",
    "top = sdf[cols].head(25) if cols else sdf.head(25)\n",
    "top.reset_index(drop=True, inplace=True)\n",
    "top\n"
   ]
  },
  {
   "cell_type": "markdown",
   "id": "1f4ad6f8",
   "metadata": {},
   "source": [
    "\n",
    "## Summary & Next Steps\n",
    "\n",
    "- Priority bands align with capacity and expected conversion pockets.  \n",
    "- Opt‑in concentration in higher priority tiers makes SMS effective.  \n",
    "- Elevated ER utilization at higher priority indicates opportunities for concierge outreach.  \n",
    "- Next: tune thresholds, test SMS templates/cadence, and iterate with weekly refresh.\n"
   ]
  }
 ],
 "metadata": {
  "kernelspec": {
   "display_name": "Python 3",
   "language": "python",
   "name": "python3"
  },
  "language_info": {
   "codemirror_mode": {
    "name": "ipython",
    "version": 3
   },
   "file_extension": ".py",
   "mimetype": "text/x-python",
   "name": "python",
   "nbconvert_exporter": "python",
   "pygments_lexer": "ipython3",
   "version": "3.13.5"
  }
 },
 "nbformat": 4,
 "nbformat_minor": 5
}
