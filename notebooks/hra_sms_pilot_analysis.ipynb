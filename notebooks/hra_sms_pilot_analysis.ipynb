{
 "cells": [
  {
   "cell_type": "code",
   "execution_count": 20,
   "id": "9b464c50",
   "metadata": {},
   "outputs": [
    {
     "name": "stdout",
     "output_type": "stream",
     "text": [
      "Note: you may need to restart the kernel to use updated packages.\n"
     ]
    },
    {
     "name": "stderr",
     "output_type": "stream",
     "text": [
      "\n",
      "[notice] A new release of pip is available: 25.1.1 -> 25.2\n",
      "[notice] To update, run: python.exe -m pip install --upgrade pip\n"
     ]
    }
   ],
   "source": [
    "%pip install -q pandas numpy plotly ipykernel jupyter\n"
   ]
  },
  {
   "cell_type": "code",
   "execution_count": 21,
   "id": "9eff4ce9",
   "metadata": {},
   "outputs": [
    {
     "name": "stdout",
     "output_type": "stream",
     "text": [
      "ROOT     = c:\\Users\\eluje\\OneDrive\\Documents\\Lujean Important Docs\\Portfolio-Mock Projects\\lujean-portfolio1\n",
      "DATA_DIR = c:\\Users\\eluje\\OneDrive\\Documents\\Lujean Important Docs\\Portfolio-Mock Projects\\lujean-portfolio1\\data\n",
      "DOCS_DIR = c:\\Users\\eluje\\OneDrive\\Documents\\Lujean Important Docs\\Portfolio-Mock Projects\\lujean-portfolio1\\documents\n",
      "CLEAN_CSV exists?  True\n"
     ]
    }
   ],
   "source": [
    "from pathlib import Path\n",
    "\n",
    "def find_root(targets=(\"data\", \"documents\")):\n",
    "    here = Path.cwd()\n",
    "    for _ in range(5):\n",
    "        if all((here / t).exists() for t in targets):\n",
    "            return here\n",
    "        here = here.parent\n",
    "    raise FileNotFoundError(\n",
    "        f\"Could not locate a folder containing: {', '.join(targets)} starting at {Path.cwd()}\"\n",
    "    )\n",
    "\n",
    "ROOT     = find_root()\n",
    "DATA_DIR = ROOT / \"data\"\n",
    "DOCS_DIR = ROOT / \"documents\"\n",
    "DOCS_DIR.mkdir(parents=True, exist_ok=True)\n",
    "\n",
    "CLEAN_CSV = DATA_DIR / \"sms_members_cleaned.csv\"\n",
    "RAW1      = DATA_DIR / \"sms_members_clinical_version.csv\"\n",
    "RAW2      = DATA_DIR / \"mock_dsnp_members.csv\"\n",
    "\n",
    "print(\"ROOT     =\", ROOT)\n",
    "print(\"DATA_DIR =\", DATA_DIR)\n",
    "print(\"DOCS_DIR =\", DOCS_DIR)\n",
    "print(\"CLEAN_CSV exists? \", CLEAN_CSV.exists())\n"
   ]
  },
  {
   "cell_type": "code",
   "execution_count": 22,
   "id": "be64c457",
   "metadata": {},
   "outputs": [
    {
     "name": "stdout",
     "output_type": "stream",
     "text": [
      "Loaded: c:\\Users\\eluje\\OneDrive\\Documents\\Lujean Important Docs\\Portfolio-Mock Projects\\lujean-portfolio1\\data\\sms_members_cleaned.csv\n"
     ]
    },
    {
     "data": {
      "text/html": [
       "<div>\n",
       "<style scoped>\n",
       "    .dataframe tbody tr th:only-of-type {\n",
       "        vertical-align: middle;\n",
       "    }\n",
       "\n",
       "    .dataframe tbody tr th {\n",
       "        vertical-align: top;\n",
       "    }\n",
       "\n",
       "    .dataframe thead th {\n",
       "        text-align: right;\n",
       "    }\n",
       "</style>\n",
       "<table border=\"1\" class=\"dataframe\">\n",
       "  <thead>\n",
       "    <tr style=\"text-align: right;\">\n",
       "      <th></th>\n",
       "      <th>member_id</th>\n",
       "      <th>last_hra_days</th>\n",
       "      <th>response_history</th>\n",
       "      <th>chronic_conditions</th>\n",
       "      <th>age</th>\n",
       "      <th>dual_eligible</th>\n",
       "      <th>snp_member</th>\n",
       "      <th>zipcode</th>\n",
       "    </tr>\n",
       "  </thead>\n",
       "  <tbody>\n",
       "    <tr>\n",
       "      <th>0</th>\n",
       "      <td>M00001</td>\n",
       "      <td>102.0</td>\n",
       "      <td>3.0</td>\n",
       "      <td>0.0</td>\n",
       "      <td>25.0</td>\n",
       "      <td>0</td>\n",
       "      <td>0</td>\n",
       "      <td>33613</td>\n",
       "    </tr>\n",
       "    <tr>\n",
       "      <th>1</th>\n",
       "      <td>M00002</td>\n",
       "      <td>348.0</td>\n",
       "      <td>1.0</td>\n",
       "      <td>1.0</td>\n",
       "      <td>39.0</td>\n",
       "      <td>0</td>\n",
       "      <td>0</td>\n",
       "      <td>33614</td>\n",
       "    </tr>\n",
       "    <tr>\n",
       "      <th>2</th>\n",
       "      <td>M00003</td>\n",
       "      <td>270.0</td>\n",
       "      <td>0.0</td>\n",
       "      <td>3.0</td>\n",
       "      <td>24.0</td>\n",
       "      <td>1</td>\n",
       "      <td>0</td>\n",
       "      <td>33614</td>\n",
       "    </tr>\n",
       "  </tbody>\n",
       "</table>\n",
       "</div>"
      ],
      "text/plain": [
       "  member_id  last_hra_days  response_history  chronic_conditions   age  \\\n",
       "0    M00001          102.0               3.0                 0.0  25.0   \n",
       "1    M00002          348.0               1.0                 1.0  39.0   \n",
       "2    M00003          270.0               0.0                 3.0  24.0   \n",
       "\n",
       "   dual_eligible  snp_member  zipcode  \n",
       "0              0           0    33613  \n",
       "1              0           0    33614  \n",
       "2              1           0    33614  "
      ]
     },
     "execution_count": 22,
     "metadata": {},
     "output_type": "execute_result"
    }
   ],
   "source": [
    "import pandas as pd\n",
    "import numpy as np\n",
    "\n",
    "if not CLEAN_CSV.exists():\n",
    "    if RAW1.exists():\n",
    "        df = pd.read_csv(RAW1)\n",
    "        df = df.drop(columns=[\"notes\", \"system_flag\"], errors=\"ignore\")\n",
    "        df = df.replace({\"unknown\": pd.NA})\n",
    "        for col in [\"last_hra_days\", \"response_history\", \"chronic_conditions\", \"age\"]:\n",
    "            df[col] = pd.to_numeric(df.get(col), errors=\"coerce\")\n",
    "        df = df.dropna(subset=[\"last_hra_days\",\"response_history\",\"chronic_conditions\",\"age\"])\n",
    "        df.to_csv(CLEAN_CSV, index=False)\n",
    "    elif RAW2.exists():\n",
    "        df = pd.read_csv(RAW2)\n",
    "        df.to_csv(CLEAN_CSV, index=False)\n",
    "    else:\n",
    "        raise FileNotFoundError(\n",
    "            f\"Missing {CLEAN_CSV.name} and no raw source found in {DATA_DIR}.\"\n",
    "        )\n",
    "\n",
    "df = pd.read_csv(CLEAN_CSV)\n",
    "print(\"Loaded:\", CLEAN_CSV)\n",
    "df.head(3)\n"
   ]
  },
  {
   "cell_type": "code",
   "execution_count": 23,
   "id": "1a24ae4c",
   "metadata": {},
   "outputs": [],
   "source": [
    "# rename legacy -> new\n",
    "if \"last_hra_days\" in df.columns and \"hra_overdue_days\" not in df.columns:\n",
    "    df = df.rename(columns={\"last_hra_days\": \"hra_overdue_days\"})\n",
    "\n",
    "# safe defaults for missing fields\n",
    "df[\"managed_flag\"]        = df[\"managed_flag\"]        if \"managed_flag\"        in df.columns else 0\n",
    "df[\"prior_hra_completed\"] = df[\"prior_hra_completed\"] if \"prior_hra_completed\" in df.columns else 0\n",
    "df[\"high_risk_flag\"]      = df[\"high_risk_flag\"]      if \"high_risk_flag\"      in df.columns else (\n",
    "    (df[\"chronic_conditions\"] >= 3).astype(int) if \"chronic_conditions\" in df.columns else 0\n",
    ")\n",
    "df[\"recent_kickout_flag\"] = df[\"recent_kickout_flag\"] if \"recent_kickout_flag\" in df.columns else 0\n",
    "df[\"er_visit_count\"]      = df[\"er_visit_count\"]      if \"er_visit_count\"      in df.columns else 0\n",
    "\n",
    "# unmanaged only\n",
    "df = df[df[\"managed_flag\"] == 0].copy()\n",
    "\n",
    "# score\n",
    "def log_scale(days, max_days=365):\n",
    "    return np.log1p(days) / np.log1p(max_days)\n",
    "\n",
    "df[\"outreach_score\"] = (\n",
    "    log_scale(df[\"hra_overdue_days\"]) * 30\n",
    "    + (1 - (df[\"response_history\"] / 5)) * 15\n",
    "    + (df[\"chronic_conditions\"] * 4 if \"chronic_conditions\" in df.columns else 0)\n",
    "    + (df[\"age\"] >= 75).astype(int) * 8\n",
    "    + (df[\"prior_hra_completed\"] * 5)\n",
    "    + (df[\"high_risk_flag\"] * 20)\n",
    "    + (df[\"recent_kickout_flag\"] * -10)\n",
    "    + ((df[\"er_visit_count\"] > 1).astype(int) * 10)\n",
    ")\n"
   ]
  },
  {
   "cell_type": "code",
   "execution_count": 24,
   "id": "008d9c54",
   "metadata": {},
   "outputs": [],
   "source": [
    "def assign_tier(score):\n",
    "    if score >= 80:\n",
    "        return \"High\"\n",
    "    elif score >= 55:\n",
    "        return \"Medium\"\n",
    "    else:\n",
    "        return \"Low\"\n",
    "\n",
    "df[\"outreach_priority\"] = df[\"outreach_score\"].apply(assign_tier)\n",
    "\n",
    "rng = np.random.default_rng(seed=42)\n",
    "optin_p = {\"High\": 0.70, \"Medium\": 0.80, \"Low\": 0.90}\n",
    "df[\"text_opt_in\"] = df[\"outreach_priority\"].map(lambda t: rng.binomial(n=1, p=optin_p[t]))\n",
    "\n",
    "# back-compat column names for older cells\n",
    "df[\"risk_tier\"] = df.get(\"risk_tier\", df[\"outreach_priority\"])\n",
    "df[\"score\"]     = df.get(\"score\",     df[\"outreach_score\"])\n",
    "\n",
    "import plotly.graph_objects as go\n"
   ]
  },
  {
   "cell_type": "code",
   "execution_count": 25,
   "id": "73b3f4fd",
   "metadata": {},
   "outputs": [
    {
     "data": {
      "text/plain": [
       "{'Total unmanaged members': 1898,\n",
       " 'Members by tier': {'High': 85, 'Low': 1250, 'Medium': 563},\n",
       " 'Opt-in rate by tier': {'High': 0.694, 'Low': 0.894, 'Medium': 0.796}}"
      ]
     },
     "metadata": {},
     "output_type": "display_data"
    }
   ],
   "source": [
    "kpi_total      = len(df)\n",
    "kpi_by_tier    = df[\"outreach_priority\"].value_counts().sort_index()\n",
    "kpi_optin_rate = df.groupby(\"outreach_priority\")[\"text_opt_in\"].mean().sort_index().round(3)\n",
    "\n",
    "display({\n",
    "    \"Total unmanaged members\": kpi_total,\n",
    "    \"Members by tier\":         kpi_by_tier.to_dict(),\n",
    "    \"Opt-in rate by tier\":     kpi_optin_rate.to_dict()\n",
    "})\n"
   ]
  },
  {
   "cell_type": "code",
   "execution_count": 26,
   "id": "4ec8e934",
   "metadata": {},
   "outputs": [
    {
     "data": {
      "application/vnd.plotly.v1+json": {
       "config": {
        "plotlyServerURL": "https://plot.ly"
       },
       "data": [
        {
         "domain": {
          "x": [
           0,
           1
          ],
          "y": [
           0,
           1
          ]
         },
         "hole": 0.45,
         "hovertemplate": "outreach_priority=%{label}<extra></extra>",
         "labels": [
          "Low",
          "Low",
          "Medium",
          "Low",
          "Medium",
          "Low",
          "Medium",
          "Low",
          "Low",
          "Low",
          "Medium",
          "Low",
          "Low",
          "Low",
          "Low",
          "Medium",
          "Low",
          "Low",
          "Low",
          "High",
          "Medium",
          "Low",
          "Low",
          "Low",
          "Medium",
          "Low",
          "Medium",
          "Low",
          "Low",
          "Medium",
          "Low",
          "Medium",
          "Low",
          "Low",
          "Low",
          "Low",
          "Low",
          "Medium",
          "Low",
          "High",
          "Medium",
          "Low",
          "Low",
          "Low",
          "Medium",
          "Low",
          "Medium",
          "Low",
          "Medium",
          "Low",
          "Low",
          "Low",
          "Low",
          "Medium",
          "Medium",
          "Low",
          "Low",
          "Medium",
          "Low",
          "Low",
          "Low",
          "Medium",
          "Medium",
          "Low",
          "Low",
          "Low",
          "Medium",
          "Low",
          "Medium",
          "Low",
          "Medium",
          "Low",
          "Low",
          "Low",
          "Low",
          "Low",
          "Low",
          "Medium",
          "Low",
          "Low",
          "Low",
          "Medium",
          "Low",
          "Medium",
          "Low",
          "Low",
          "Low",
          "Low",
          "Medium",
          "Medium",
          "Low",
          "Low",
          "Low",
          "Low",
          "Low",
          "Medium",
          "Low",
          "Medium",
          "Low",
          "Low",
          "Medium",
          "Medium",
          "Medium",
          "Low",
          "Medium",
          "Medium",
          "Medium",
          "Low",
          "Low",
          "Low",
          "Medium",
          "Low",
          "Medium",
          "Low",
          "Low",
          "Medium",
          "Low",
          "Medium",
          "Low",
          "Low",
          "Medium",
          "Low",
          "Low",
          "Low",
          "Medium",
          "Low",
          "Medium",
          "Low",
          "High",
          "Medium",
          "Low",
          "Low",
          "Low",
          "Low",
          "Low",
          "Medium",
          "Low",
          "Low",
          "Low",
          "Low",
          "Medium",
          "Medium",
          "Low",
          "Medium",
          "Medium",
          "Low",
          "Medium",
          "Low",
          "Low",
          "Low",
          "Medium",
          "Low",
          "Low",
          "Medium",
          "Low",
          "Low",
          "Medium",
          "Low",
          "Medium",
          "Medium",
          "Low",
          "Low",
          "Medium",
          "Low",
          "Low",
          "Low",
          "Low",
          "Low",
          "Medium",
          "Low",
          "Low",
          "Medium",
          "Low",
          "Medium",
          "Low",
          "Low",
          "Medium",
          "Low",
          "Low",
          "Low",
          "Low",
          "Medium",
          "Medium",
          "Medium",
          "Low",
          "Medium",
          "Low",
          "Low",
          "Low",
          "Medium",
          "Low",
          "Medium",
          "Low",
          "Low",
          "Low",
          "Low",
          "Low",
          "Low",
          "Low",
          "Low",
          "Medium",
          "Low",
          "Low",
          "High",
          "Medium",
          "Low",
          "Low",
          "Medium",
          "Low",
          "Medium",
          "Low",
          "Medium",
          "Low",
          "Medium",
          "Low",
          "Low",
          "Low",
          "Low",
          "Low",
          "Low",
          "Medium",
          "Medium",
          "Low",
          "Medium",
          "Low",
          "Low",
          "Low",
          "Medium",
          "Low",
          "Low",
          "Low",
          "Low",
          "Low",
          "Medium",
          "Medium",
          "Medium",
          "Low",
          "Low",
          "Low",
          "Low",
          "Medium",
          "Low",
          "Medium",
          "Low",
          "Low",
          "Medium",
          "Low",
          "Medium",
          "Low",
          "Low",
          "Low",
          "Medium",
          "Low",
          "Low",
          "Medium",
          "Medium",
          "Medium",
          "Low",
          "Low",
          "Low",
          "Low",
          "Low",
          "Low",
          "Medium",
          "Low",
          "Medium",
          "Low",
          "Low",
          "Low",
          "Medium",
          "Low",
          "Low",
          "Low",
          "High",
          "Low",
          "Low",
          "Low",
          "Low",
          "Low",
          "Low",
          "Low",
          "Low",
          "Low",
          "Medium",
          "Low",
          "Low",
          "Low",
          "Medium",
          "Low",
          "Low",
          "Low",
          "Low",
          "Low",
          "Low",
          "Low",
          "Medium",
          "High",
          "Low",
          "Low",
          "High",
          "Medium",
          "Low",
          "Low",
          "Medium",
          "Low",
          "Low",
          "Low",
          "Medium",
          "Low",
          "Medium",
          "Low",
          "Low",
          "Medium",
          "Medium",
          "Low",
          "Low",
          "Low",
          "Low",
          "Low",
          "Medium",
          "Low",
          "Low",
          "Medium",
          "Low",
          "Low",
          "Low",
          "Low",
          "Low",
          "Low",
          "Medium",
          "High",
          "Low",
          "Low",
          "Low",
          "Low",
          "Low",
          "Low",
          "Low",
          "Medium",
          "Low",
          "Low",
          "Low",
          "Low",
          "Low",
          "Low",
          "Medium",
          "Low",
          "Low",
          "Medium",
          "Low",
          "Medium",
          "Low",
          "Low",
          "Low",
          "Medium",
          "Low",
          "Low",
          "Low",
          "Low",
          "Medium",
          "Low",
          "Low",
          "Low",
          "Low",
          "Low",
          "Low",
          "Medium",
          "Medium",
          "Medium",
          "Low",
          "Medium",
          "Medium",
          "Low",
          "Low",
          "Low",
          "Low",
          "Medium",
          "Low",
          "Low",
          "Low",
          "Low",
          "Medium",
          "Medium",
          "Low",
          "Medium",
          "Low",
          "Medium",
          "Low",
          "Low",
          "Low",
          "Low",
          "Medium",
          "Low",
          "Low",
          "Medium",
          "Low",
          "Low",
          "Low",
          "Low",
          "Medium",
          "Medium",
          "Low",
          "Low",
          "Medium",
          "Medium",
          "Medium",
          "Low",
          "Low",
          "Low",
          "Low",
          "Low",
          "Low",
          "Medium",
          "Low",
          "Medium",
          "Low",
          "Medium",
          "Medium",
          "Low",
          "Low",
          "Low",
          "Medium",
          "Low",
          "Medium",
          "Medium",
          "Low",
          "Low",
          "Medium",
          "Low",
          "Medium",
          "Medium",
          "Low",
          "Low",
          "Medium",
          "Low",
          "Low",
          "Low",
          "Low",
          "Low",
          "Low",
          "Low",
          "Medium",
          "Low",
          "Low",
          "High",
          "Low",
          "Medium",
          "Low",
          "Low",
          "Medium",
          "Low",
          "Low",
          "Medium",
          "Low",
          "Low",
          "Medium",
          "Low",
          "High",
          "Low",
          "Low",
          "Low",
          "Medium",
          "Low",
          "Medium",
          "Low",
          "Low",
          "Low",
          "Low",
          "Low",
          "Medium",
          "High",
          "Low",
          "Medium",
          "Medium",
          "Medium",
          "Low",
          "Low",
          "Medium",
          "Low",
          "Low",
          "Low",
          "Low",
          "Medium",
          "Low",
          "Low",
          "Low",
          "Medium",
          "Low",
          "Low",
          "Medium",
          "Low",
          "Low",
          "Low",
          "High",
          "Low",
          "Low",
          "Low",
          "Low",
          "High",
          "Low",
          "Low",
          "Low",
          "Low",
          "Medium",
          "Low",
          "Medium",
          "Medium",
          "Low",
          "Low",
          "Low",
          "Low",
          "Low",
          "Medium",
          "Low",
          "Medium",
          "Low",
          "Low",
          "Low",
          "Low",
          "Medium",
          "Low",
          "Medium",
          "Low",
          "Medium",
          "Medium",
          "Low",
          "Low",
          "Low",
          "Low",
          "Low",
          "Medium",
          "Low",
          "Medium",
          "Medium",
          "Medium",
          "Low",
          "Low",
          "Low",
          "Low",
          "Low",
          "Low",
          "Medium",
          "Medium",
          "Low",
          "Low",
          "Low",
          "Low",
          "Low",
          "Low",
          "Low",
          "Medium",
          "Low",
          "Low",
          "Medium",
          "Low",
          "Low",
          "Low",
          "Medium",
          "Low",
          "Low",
          "Medium",
          "Low",
          "Medium",
          "Medium",
          "Low",
          "Medium",
          "Low",
          "Low",
          "Low",
          "Medium",
          "Medium",
          "Medium",
          "Low",
          "High",
          "Low",
          "Low",
          "Low",
          "Medium",
          "Low",
          "Low",
          "Low",
          "Low",
          "Low",
          "Low",
          "Low",
          "Low",
          "Low",
          "Low",
          "Medium",
          "Low",
          "Low",
          "Low",
          "Low",
          "Low",
          "Low",
          "Low",
          "Medium",
          "Low",
          "Low",
          "Low",
          "Low",
          "Low",
          "Low",
          "Low",
          "Low",
          "Medium",
          "Low",
          "Low",
          "Medium",
          "Medium",
          "Low",
          "Low",
          "Low",
          "High",
          "High",
          "Medium",
          "Low",
          "Low",
          "High",
          "Low",
          "Low",
          "Medium",
          "Low",
          "Medium",
          "Medium",
          "Low",
          "Medium",
          "Low",
          "Low",
          "Medium",
          "Low",
          "Low",
          "Low",
          "Low",
          "Low",
          "Low",
          "Medium",
          "Low",
          "Low",
          "Low",
          "Medium",
          "High",
          "Medium",
          "Medium",
          "Medium",
          "Low",
          "Low",
          "Low",
          "Low",
          "Low",
          "Medium",
          "Low",
          "Medium",
          "Low",
          "Low",
          "Low",
          "Low",
          "Medium",
          "Low",
          "Medium",
          "High",
          "Low",
          "Low",
          "Low",
          "Medium",
          "Low",
          "Low",
          "Medium",
          "Low",
          "Low",
          "Low",
          "Low",
          "Low",
          "Low",
          "Low",
          "Medium",
          "Low",
          "Medium",
          "Low",
          "Low",
          "Medium",
          "Medium",
          "Medium",
          "High",
          "Low",
          "Low",
          "Low",
          "Low",
          "Medium",
          "Medium",
          "Low",
          "Low",
          "Low",
          "Low",
          "Medium",
          "Low",
          "Low",
          "Low",
          "Low",
          "Medium",
          "Medium",
          "Medium",
          "Medium",
          "Low",
          "Medium",
          "Medium",
          "Medium",
          "Low",
          "Low",
          "Low",
          "Low",
          "Low",
          "Low",
          "Medium",
          "Low",
          "Low",
          "Low",
          "Low",
          "Medium",
          "Medium",
          "Low",
          "Medium",
          "Low",
          "Medium",
          "Low",
          "Medium",
          "Low",
          "Medium",
          "Low",
          "Low",
          "Low",
          "Medium",
          "Low",
          "Low",
          "Medium",
          "Low",
          "Low",
          "Low",
          "Medium",
          "Low",
          "Low",
          "Low",
          "Low",
          "Low",
          "Medium",
          "Low",
          "Low",
          "Low",
          "Low",
          "Low",
          "Low",
          "Low",
          "Low",
          "Low",
          "Low",
          "Low",
          "Low",
          "Low",
          "Medium",
          "Medium",
          "Low",
          "Low",
          "Medium",
          "High",
          "Medium",
          "Low",
          "Low",
          "Low",
          "Medium",
          "Low",
          "Medium",
          "Low",
          "Low",
          "Low",
          "Low",
          "Low",
          "Low",
          "Medium",
          "Low",
          "Low",
          "Medium",
          "Low",
          "Low",
          "Low",
          "Medium",
          "Medium",
          "Low",
          "Low",
          "Medium",
          "Low",
          "Low",
          "Low",
          "Low",
          "Low",
          "Medium",
          "Low",
          "Low",
          "Low",
          "Medium",
          "Medium",
          "Low",
          "Low",
          "Low",
          "High",
          "Low",
          "Low",
          "Low",
          "Medium",
          "Low",
          "Low",
          "High",
          "Low",
          "Low",
          "Medium",
          "Low",
          "Medium",
          "Low",
          "Low",
          "Low",
          "Low",
          "Low",
          "Low",
          "Low",
          "Medium",
          "Low",
          "Medium",
          "Low",
          "Low",
          "Low",
          "Medium",
          "High",
          "Medium",
          "Low",
          "Low",
          "Medium",
          "Low",
          "Low",
          "Low",
          "Medium",
          "Low",
          "Medium",
          "Medium",
          "Low",
          "Low",
          "Medium",
          "Medium",
          "Medium",
          "Low",
          "Low",
          "Low",
          "Medium",
          "Medium",
          "Medium",
          "Low",
          "Medium",
          "Medium",
          "Low",
          "Medium",
          "Low",
          "Medium",
          "Low",
          "Low",
          "Low",
          "Low",
          "Medium",
          "Medium",
          "Low",
          "Low",
          "Medium",
          "Low",
          "Low",
          "Low",
          "Low",
          "Low",
          "Low",
          "Medium",
          "Medium",
          "Medium",
          "Medium",
          "Low",
          "Low",
          "Low",
          "Medium",
          "Medium",
          "Low",
          "Low",
          "Low",
          "Low",
          "Medium",
          "Medium",
          "Low",
          "Low",
          "Medium",
          "Low",
          "High",
          "High",
          "Low",
          "Medium",
          "Low",
          "Low",
          "Low",
          "Low",
          "Low",
          "Low",
          "Low",
          "Medium",
          "High",
          "Low",
          "Low",
          "Low",
          "Low",
          "Low",
          "Low",
          "Medium",
          "Medium",
          "Medium",
          "Medium",
          "Medium",
          "Medium",
          "Medium",
          "Low",
          "Medium",
          "Low",
          "Low",
          "Medium",
          "Low",
          "Medium",
          "Low",
          "Low",
          "Low",
          "Medium",
          "Low",
          "Low",
          "Low",
          "Low",
          "Low",
          "Low",
          "Medium",
          "Low",
          "Low",
          "Low",
          "Low",
          "Low",
          "Low",
          "Low",
          "Medium",
          "High",
          "Low",
          "Medium",
          "Low",
          "Low",
          "Medium",
          "Low",
          "Low",
          "High",
          "Medium",
          "Medium",
          "Medium",
          "Low",
          "Medium",
          "Medium",
          "High",
          "Low",
          "Low",
          "Low",
          "High",
          "Low",
          "Medium",
          "Low",
          "Low",
          "Medium",
          "Low",
          "Low",
          "Medium",
          "Medium",
          "Low",
          "Low",
          "Low",
          "Low",
          "Low",
          "Low",
          "Low",
          "Low",
          "Low",
          "Low",
          "Low",
          "Medium",
          "Medium",
          "Low",
          "Low",
          "Low",
          "Low",
          "Low",
          "Medium",
          "Low",
          "Low",
          "Medium",
          "Low",
          "Medium",
          "Low",
          "Medium",
          "Medium",
          "Low",
          "Medium",
          "Low",
          "Low",
          "Low",
          "Low",
          "Medium",
          "Low",
          "Medium",
          "Low",
          "Low",
          "Medium",
          "Low",
          "High",
          "Medium",
          "Low",
          "Low",
          "Low",
          "Medium",
          "Medium",
          "Low",
          "Low",
          "Low",
          "Low",
          "Low",
          "Medium",
          "Medium",
          "Medium",
          "Medium",
          "Low",
          "Low",
          "Low",
          "Low",
          "Low",
          "Low",
          "Low",
          "Medium",
          "Medium",
          "Medium",
          "Low",
          "Low",
          "Low",
          "Low",
          "Medium",
          "Low",
          "Low",
          "Medium",
          "Low",
          "Low",
          "Medium",
          "Low",
          "Low",
          "Low",
          "Low",
          "Low",
          "Low",
          "Low",
          "Medium",
          "Low",
          "Low",
          "Low",
          "Medium",
          "Medium",
          "Low",
          "Low",
          "Low",
          "Low",
          "Low",
          "Low",
          "Low",
          "Low",
          "Medium",
          "Medium",
          "High",
          "High",
          "Low",
          "Low",
          "Low",
          "Low",
          "Low",
          "Low",
          "Medium",
          "Low",
          "Low",
          "Low",
          "Low",
          "Medium",
          "Low",
          "Low",
          "Low",
          "Medium",
          "Low",
          "Low",
          "Low",
          "Low",
          "Low",
          "Low",
          "Medium",
          "Medium",
          "Low",
          "Medium",
          "Medium",
          "Medium",
          "Low",
          "Low",
          "Low",
          "Low",
          "Low",
          "Low",
          "High",
          "Low",
          "Low",
          "Medium",
          "Low",
          "High",
          "Low",
          "High",
          "Low",
          "Low",
          "Low",
          "Medium",
          "Medium",
          "Low",
          "Medium",
          "Medium",
          "Low",
          "High",
          "Low",
          "Medium",
          "Low",
          "Low",
          "Low",
          "Medium",
          "High",
          "Medium",
          "Low",
          "Medium",
          "Medium",
          "Low",
          "Low",
          "Medium",
          "Low",
          "Medium",
          "Medium",
          "Low",
          "Low",
          "Medium",
          "Medium",
          "Medium",
          "Low",
          "Medium",
          "Low",
          "Low",
          "Low",
          "Low",
          "Low",
          "Medium",
          "Medium",
          "Medium",
          "Low",
          "Low",
          "Low",
          "Low",
          "Medium",
          "Medium",
          "Low",
          "Low",
          "Low",
          "Medium",
          "Low",
          "Low",
          "Low",
          "High",
          "Low",
          "Low",
          "Low",
          "Low",
          "Low",
          "Low",
          "Low",
          "Medium",
          "High",
          "Low",
          "Low",
          "Low",
          "Low",
          "Medium",
          "Low",
          "Low",
          "Low",
          "Medium",
          "Low",
          "High",
          "Medium",
          "Low",
          "Low",
          "Medium",
          "Low",
          "Low",
          "Medium",
          "Low",
          "Low",
          "Medium",
          "Low",
          "Low",
          "Low",
          "Medium",
          "Low",
          "Low",
          "Medium",
          "High",
          "Low",
          "Low",
          "Low",
          "Medium",
          "Medium",
          "Medium",
          "Low",
          "Low",
          "Low",
          "Medium",
          "Low",
          "Low",
          "Low",
          "Low",
          "Low",
          "Medium",
          "Low",
          "High",
          "Low",
          "Low",
          "Low",
          "Low",
          "Low",
          "Low",
          "Low",
          "Medium",
          "High",
          "Low",
          "Medium",
          "Low",
          "Medium",
          "Low",
          "Low",
          "Medium",
          "Low",
          "Low",
          "Low",
          "Low",
          "Low",
          "Medium",
          "Medium",
          "Low",
          "Low",
          "Medium",
          "Medium",
          "Low",
          "Medium",
          "Low",
          "Low",
          "Low",
          "Low",
          "Medium",
          "Medium",
          "Medium",
          "Medium",
          "Low",
          "Medium",
          "Low",
          "Low",
          "Low",
          "Low",
          "Low",
          "Medium",
          "Low",
          "Low",
          "Low",
          "Low",
          "Medium",
          "Medium",
          "Low",
          "Low",
          "High",
          "Low",
          "Medium",
          "Low",
          "Medium",
          "Medium",
          "Medium",
          "Medium",
          "Low",
          "Low",
          "Low",
          "Low",
          "Low",
          "Medium",
          "High",
          "Low",
          "Medium",
          "Low",
          "Low",
          "Medium",
          "Low",
          "High",
          "Medium",
          "Medium",
          "Low",
          "Medium",
          "Low",
          "Low",
          "Medium",
          "Low",
          "Low",
          "Low",
          "Low",
          "Low",
          "Low",
          "Medium",
          "Low",
          "Low",
          "Low",
          "Medium",
          "Low",
          "Low",
          "Low",
          "Medium",
          "Medium",
          "Low",
          "Low",
          "Medium",
          "Medium",
          "Medium",
          "Low",
          "Low",
          "Low",
          "Medium",
          "Medium",
          "Low",
          "Low",
          "Medium",
          "Low",
          "Low",
          "High",
          "Low",
          "Medium",
          "Medium",
          "Low",
          "Low",
          "Medium",
          "Medium",
          "Low",
          "Low",
          "Low",
          "High",
          "Low",
          "Low",
          "Medium",
          "Medium",
          "Low",
          "Medium",
          "Low",
          "Medium",
          "Medium",
          "Low",
          "High",
          "High",
          "Low",
          "Medium",
          "Low",
          "Low",
          "Low",
          "Low",
          "Medium",
          "Low",
          "Low",
          "Low",
          "High",
          "High",
          "Medium",
          "Low",
          "Low",
          "Medium",
          "Low",
          "Medium",
          "Low",
          "Low",
          "Low",
          "Low",
          "Medium",
          "Low",
          "High",
          "Low",
          "Low",
          "Low",
          "High",
          "Low",
          "High",
          "Low",
          "Low",
          "Low",
          "Low",
          "Medium",
          "Medium",
          "Low",
          "Low",
          "Medium",
          "Low",
          "Medium",
          "Low",
          "Low",
          "Low",
          "Low",
          "Low",
          "Low",
          "Low",
          "High",
          "Medium",
          "Low",
          "Low",
          "Low",
          "Medium",
          "Low",
          "Low",
          "High",
          "Medium",
          "Low",
          "High",
          "Low",
          "Low",
          "Low",
          "Medium",
          "Low",
          "Low",
          "Medium",
          "Low",
          "Low",
          "Low",
          "Low",
          "Low",
          "Low",
          "Low",
          "Medium",
          "Low",
          "Low",
          "Low",
          "Medium",
          "Medium",
          "Low",
          "Low",
          "Low",
          "Low",
          "Low",
          "Medium",
          "Low",
          "Medium",
          "Low",
          "Low",
          "Low",
          "Low",
          "Low",
          "Low",
          "Low",
          "Low",
          "Medium",
          "Medium",
          "Low",
          "Low",
          "Low",
          "High",
          "Medium",
          "Low",
          "Low",
          "Low",
          "High",
          "Medium",
          "Medium",
          "Medium",
          "Medium",
          "Medium",
          "Medium",
          "Low",
          "Low",
          "Low",
          "Low",
          "High",
          "High",
          "Low",
          "Low",
          "Low",
          "Low",
          "Medium",
          "Low",
          "Low",
          "Low",
          "Low",
          "Low",
          "Low",
          "Low",
          "Low",
          "Low",
          "Low",
          "Medium",
          "Medium",
          "Medium",
          "Low",
          "Medium",
          "Medium",
          "Low",
          "Low",
          "Low",
          "Medium",
          "Medium",
          "Low",
          "Medium",
          "Medium",
          "Low",
          "Medium",
          "Low",
          "Low",
          "Low",
          "Low",
          "Medium",
          "Low",
          "Medium",
          "Low",
          "Low",
          "Low",
          "Medium",
          "Medium",
          "High",
          "Low",
          "Low",
          "Low",
          "Low",
          "Low",
          "Low",
          "High",
          "Low",
          "Low",
          "Low",
          "Low",
          "Low",
          "Low",
          "Medium",
          "Medium",
          "Medium",
          "Low",
          "Medium",
          "Low",
          "Low",
          "Low",
          "High",
          "Low",
          "Medium",
          "Low",
          "Medium",
          "Low",
          "Low",
          "Low",
          "Low",
          "Medium",
          "Low",
          "Low",
          "Medium",
          "Medium",
          "Low",
          "Low",
          "Low",
          "Low",
          "Low",
          "Low",
          "Low",
          "Low",
          "Medium",
          "Low",
          "Low",
          "Medium",
          "Medium",
          "Low",
          "Low",
          "Low",
          "Low",
          "Low",
          "Low",
          "Low",
          "Medium",
          "Low",
          "Low",
          "Low",
          "Low",
          "Low",
          "Low",
          "Low",
          "Medium",
          "Low",
          "High",
          "Medium",
          "Medium",
          "Low",
          "Medium",
          "Low",
          "Medium",
          "Low",
          "Medium",
          "Medium",
          "Low",
          "Medium",
          "Low",
          "Low",
          "Low",
          "Low",
          "Low",
          "Medium",
          "Low",
          "Low",
          "Low",
          "Low",
          "Medium",
          "High",
          "Medium",
          "Low",
          "Low",
          "Low",
          "Low",
          "Low",
          "High",
          "Medium",
          "Low",
          "Low",
          "Low",
          "Low",
          "Low",
          "Medium",
          "Low",
          "Low",
          "Low",
          "Medium",
          "High",
          "Low",
          "Low",
          "High",
          "Medium",
          "Medium",
          "Low",
          "Medium",
          "Low",
          "High",
          "Low",
          "Low",
          "Medium",
          "Low",
          "Medium",
          "Low",
          "Medium",
          "Medium",
          "Medium",
          "Low",
          "Low",
          "Medium",
          "Low",
          "Low",
          "Low",
          "Low",
          "Low",
          "Medium",
          "Medium",
          "Low",
          "Medium",
          "Medium",
          "Low",
          "Low",
          "High",
          "Low",
          "Low",
          "Low",
          "Low",
          "Medium",
          "Low",
          "Low",
          "Low",
          "Medium",
          "Medium",
          "Medium",
          "Low",
          "Low",
          "Medium",
          "Low",
          "Medium",
          "Medium",
          "Medium",
          "Low",
          "Low",
          "Low",
          "Low",
          "Low",
          "Low",
          "Low",
          "Medium",
          "Medium",
          "High",
          "Low",
          "Low",
          "Low",
          "Medium",
          "Low",
          "Low",
          "Low",
          "Low",
          "High",
          "Low",
          "Low",
          "Low",
          "Medium",
          "Low",
          "Low",
          "Low",
          "Low",
          "Low",
          "Low",
          "High",
          "Medium",
          "Low",
          "Low",
          "Low",
          "Low",
          "Low",
          "Low",
          "Low",
          "Low",
          "Medium",
          "Medium",
          "Low",
          "Low",
          "Low",
          "Low",
          "Low",
          "Low",
          "Low",
          "Low",
          "Low",
          "Medium",
          "Low",
          "Low",
          "Medium",
          "Low",
          "High",
          "Low",
          "Medium",
          "Medium",
          "Medium",
          "Medium",
          "Low",
          "Low",
          "Low",
          "Low",
          "Medium",
          "High",
          "Low",
          "Low",
          "Low",
          "Low",
          "Medium",
          "Low",
          "Low",
          "Low",
          "Low",
          "Low",
          "High",
          "Low",
          "Low",
          "High",
          "Low",
          "Medium",
          "Low",
          "Low",
          "Low",
          "Low",
          "Low",
          "Low",
          "Low",
          "Medium",
          "Low",
          "Low",
          "Low",
          "Low",
          "Medium",
          "Low",
          "Medium",
          "Medium",
          "Low",
          "Low",
          "Low",
          "Medium",
          "Low",
          "Low",
          "Low",
          "Medium",
          "Low",
          "Low",
          "High",
          "Medium",
          "Low",
          "Medium",
          "Low",
          "Medium",
          "Low",
          "Medium",
          "Low",
          "Medium",
          "Low",
          "Medium",
          "Low",
          "Medium",
          "Low",
          "Medium",
          "Medium",
          "Low",
          "High",
          "Low",
          "Medium",
          "Low",
          "Low",
          "Low",
          "Low",
          "Medium",
          "Low",
          "High",
          "Low",
          "Low",
          "Medium",
          "Medium",
          "Medium",
          "Low",
          "Low",
          "Low",
          "Medium",
          "Medium",
          "Low",
          "Low",
          "Low",
          "Low",
          "Low",
          "Low",
          "Low",
          "Low",
          "Low",
          "Low",
          "Low",
          "Medium",
          "Low",
          "Medium",
          "Low",
          "Medium",
          "Low",
          "Medium",
          "Low",
          "Low",
          "Low",
          "Low",
          "Low",
          "Low",
          "Low",
          "Medium",
          "Medium",
          "Low",
          "Low",
          "Low",
          "Low",
          "Low",
          "Low",
          "Low",
          "Low",
          "Low",
          "High",
          "Low",
          "Low",
          "Low",
          "Low",
          "Low",
          "Medium",
          "Medium",
          "Medium",
          "Low",
          "Low",
          "Low",
          "Low",
          "Medium",
          "Low",
          "Low",
          "Low",
          "Low",
          "Medium",
          "Low",
          "Medium",
          "Medium",
          "Low"
         ],
         "legendgroup": "",
         "name": "",
         "showlegend": true,
         "type": "pie"
        }
       ],
       "layout": {
        "legend": {
         "tracegroupgap": 0
        },
        "template": {
         "data": {
          "bar": [
           {
            "error_x": {
             "color": "#2a3f5f"
            },
            "error_y": {
             "color": "#2a3f5f"
            },
            "marker": {
             "line": {
              "color": "#E5ECF6",
              "width": 0.5
             },
             "pattern": {
              "fillmode": "overlay",
              "size": 10,
              "solidity": 0.2
             }
            },
            "type": "bar"
           }
          ],
          "barpolar": [
           {
            "marker": {
             "line": {
              "color": "#E5ECF6",
              "width": 0.5
             },
             "pattern": {
              "fillmode": "overlay",
              "size": 10,
              "solidity": 0.2
             }
            },
            "type": "barpolar"
           }
          ],
          "carpet": [
           {
            "aaxis": {
             "endlinecolor": "#2a3f5f",
             "gridcolor": "white",
             "linecolor": "white",
             "minorgridcolor": "white",
             "startlinecolor": "#2a3f5f"
            },
            "baxis": {
             "endlinecolor": "#2a3f5f",
             "gridcolor": "white",
             "linecolor": "white",
             "minorgridcolor": "white",
             "startlinecolor": "#2a3f5f"
            },
            "type": "carpet"
           }
          ],
          "choropleth": [
           {
            "colorbar": {
             "outlinewidth": 0,
             "ticks": ""
            },
            "type": "choropleth"
           }
          ],
          "contour": [
           {
            "colorbar": {
             "outlinewidth": 0,
             "ticks": ""
            },
            "colorscale": [
             [
              0,
              "#0d0887"
             ],
             [
              0.1111111111111111,
              "#46039f"
             ],
             [
              0.2222222222222222,
              "#7201a8"
             ],
             [
              0.3333333333333333,
              "#9c179e"
             ],
             [
              0.4444444444444444,
              "#bd3786"
             ],
             [
              0.5555555555555556,
              "#d8576b"
             ],
             [
              0.6666666666666666,
              "#ed7953"
             ],
             [
              0.7777777777777778,
              "#fb9f3a"
             ],
             [
              0.8888888888888888,
              "#fdca26"
             ],
             [
              1,
              "#f0f921"
             ]
            ],
            "type": "contour"
           }
          ],
          "contourcarpet": [
           {
            "colorbar": {
             "outlinewidth": 0,
             "ticks": ""
            },
            "type": "contourcarpet"
           }
          ],
          "heatmap": [
           {
            "colorbar": {
             "outlinewidth": 0,
             "ticks": ""
            },
            "colorscale": [
             [
              0,
              "#0d0887"
             ],
             [
              0.1111111111111111,
              "#46039f"
             ],
             [
              0.2222222222222222,
              "#7201a8"
             ],
             [
              0.3333333333333333,
              "#9c179e"
             ],
             [
              0.4444444444444444,
              "#bd3786"
             ],
             [
              0.5555555555555556,
              "#d8576b"
             ],
             [
              0.6666666666666666,
              "#ed7953"
             ],
             [
              0.7777777777777778,
              "#fb9f3a"
             ],
             [
              0.8888888888888888,
              "#fdca26"
             ],
             [
              1,
              "#f0f921"
             ]
            ],
            "type": "heatmap"
           }
          ],
          "histogram": [
           {
            "marker": {
             "pattern": {
              "fillmode": "overlay",
              "size": 10,
              "solidity": 0.2
             }
            },
            "type": "histogram"
           }
          ],
          "histogram2d": [
           {
            "colorbar": {
             "outlinewidth": 0,
             "ticks": ""
            },
            "colorscale": [
             [
              0,
              "#0d0887"
             ],
             [
              0.1111111111111111,
              "#46039f"
             ],
             [
              0.2222222222222222,
              "#7201a8"
             ],
             [
              0.3333333333333333,
              "#9c179e"
             ],
             [
              0.4444444444444444,
              "#bd3786"
             ],
             [
              0.5555555555555556,
              "#d8576b"
             ],
             [
              0.6666666666666666,
              "#ed7953"
             ],
             [
              0.7777777777777778,
              "#fb9f3a"
             ],
             [
              0.8888888888888888,
              "#fdca26"
             ],
             [
              1,
              "#f0f921"
             ]
            ],
            "type": "histogram2d"
           }
          ],
          "histogram2dcontour": [
           {
            "colorbar": {
             "outlinewidth": 0,
             "ticks": ""
            },
            "colorscale": [
             [
              0,
              "#0d0887"
             ],
             [
              0.1111111111111111,
              "#46039f"
             ],
             [
              0.2222222222222222,
              "#7201a8"
             ],
             [
              0.3333333333333333,
              "#9c179e"
             ],
             [
              0.4444444444444444,
              "#bd3786"
             ],
             [
              0.5555555555555556,
              "#d8576b"
             ],
             [
              0.6666666666666666,
              "#ed7953"
             ],
             [
              0.7777777777777778,
              "#fb9f3a"
             ],
             [
              0.8888888888888888,
              "#fdca26"
             ],
             [
              1,
              "#f0f921"
             ]
            ],
            "type": "histogram2dcontour"
           }
          ],
          "mesh3d": [
           {
            "colorbar": {
             "outlinewidth": 0,
             "ticks": ""
            },
            "type": "mesh3d"
           }
          ],
          "parcoords": [
           {
            "line": {
             "colorbar": {
              "outlinewidth": 0,
              "ticks": ""
             }
            },
            "type": "parcoords"
           }
          ],
          "pie": [
           {
            "automargin": true,
            "type": "pie"
           }
          ],
          "scatter": [
           {
            "fillpattern": {
             "fillmode": "overlay",
             "size": 10,
             "solidity": 0.2
            },
            "type": "scatter"
           }
          ],
          "scatter3d": [
           {
            "line": {
             "colorbar": {
              "outlinewidth": 0,
              "ticks": ""
             }
            },
            "marker": {
             "colorbar": {
              "outlinewidth": 0,
              "ticks": ""
             }
            },
            "type": "scatter3d"
           }
          ],
          "scattercarpet": [
           {
            "marker": {
             "colorbar": {
              "outlinewidth": 0,
              "ticks": ""
             }
            },
            "type": "scattercarpet"
           }
          ],
          "scattergeo": [
           {
            "marker": {
             "colorbar": {
              "outlinewidth": 0,
              "ticks": ""
             }
            },
            "type": "scattergeo"
           }
          ],
          "scattergl": [
           {
            "marker": {
             "colorbar": {
              "outlinewidth": 0,
              "ticks": ""
             }
            },
            "type": "scattergl"
           }
          ],
          "scattermap": [
           {
            "marker": {
             "colorbar": {
              "outlinewidth": 0,
              "ticks": ""
             }
            },
            "type": "scattermap"
           }
          ],
          "scattermapbox": [
           {
            "marker": {
             "colorbar": {
              "outlinewidth": 0,
              "ticks": ""
             }
            },
            "type": "scattermapbox"
           }
          ],
          "scatterpolar": [
           {
            "marker": {
             "colorbar": {
              "outlinewidth": 0,
              "ticks": ""
             }
            },
            "type": "scatterpolar"
           }
          ],
          "scatterpolargl": [
           {
            "marker": {
             "colorbar": {
              "outlinewidth": 0,
              "ticks": ""
             }
            },
            "type": "scatterpolargl"
           }
          ],
          "scatterternary": [
           {
            "marker": {
             "colorbar": {
              "outlinewidth": 0,
              "ticks": ""
             }
            },
            "type": "scatterternary"
           }
          ],
          "surface": [
           {
            "colorbar": {
             "outlinewidth": 0,
             "ticks": ""
            },
            "colorscale": [
             [
              0,
              "#0d0887"
             ],
             [
              0.1111111111111111,
              "#46039f"
             ],
             [
              0.2222222222222222,
              "#7201a8"
             ],
             [
              0.3333333333333333,
              "#9c179e"
             ],
             [
              0.4444444444444444,
              "#bd3786"
             ],
             [
              0.5555555555555556,
              "#d8576b"
             ],
             [
              0.6666666666666666,
              "#ed7953"
             ],
             [
              0.7777777777777778,
              "#fb9f3a"
             ],
             [
              0.8888888888888888,
              "#fdca26"
             ],
             [
              1,
              "#f0f921"
             ]
            ],
            "type": "surface"
           }
          ],
          "table": [
           {
            "cells": {
             "fill": {
              "color": "#EBF0F8"
             },
             "line": {
              "color": "white"
             }
            },
            "header": {
             "fill": {
              "color": "#C8D4E3"
             },
             "line": {
              "color": "white"
             }
            },
            "type": "table"
           }
          ]
         },
         "layout": {
          "annotationdefaults": {
           "arrowcolor": "#2a3f5f",
           "arrowhead": 0,
           "arrowwidth": 1
          },
          "autotypenumbers": "strict",
          "coloraxis": {
           "colorbar": {
            "outlinewidth": 0,
            "ticks": ""
           }
          },
          "colorscale": {
           "diverging": [
            [
             0,
             "#8e0152"
            ],
            [
             0.1,
             "#c51b7d"
            ],
            [
             0.2,
             "#de77ae"
            ],
            [
             0.3,
             "#f1b6da"
            ],
            [
             0.4,
             "#fde0ef"
            ],
            [
             0.5,
             "#f7f7f7"
            ],
            [
             0.6,
             "#e6f5d0"
            ],
            [
             0.7,
             "#b8e186"
            ],
            [
             0.8,
             "#7fbc41"
            ],
            [
             0.9,
             "#4d9221"
            ],
            [
             1,
             "#276419"
            ]
           ],
           "sequential": [
            [
             0,
             "#0d0887"
            ],
            [
             0.1111111111111111,
             "#46039f"
            ],
            [
             0.2222222222222222,
             "#7201a8"
            ],
            [
             0.3333333333333333,
             "#9c179e"
            ],
            [
             0.4444444444444444,
             "#bd3786"
            ],
            [
             0.5555555555555556,
             "#d8576b"
            ],
            [
             0.6666666666666666,
             "#ed7953"
            ],
            [
             0.7777777777777778,
             "#fb9f3a"
            ],
            [
             0.8888888888888888,
             "#fdca26"
            ],
            [
             1,
             "#f0f921"
            ]
           ],
           "sequentialminus": [
            [
             0,
             "#0d0887"
            ],
            [
             0.1111111111111111,
             "#46039f"
            ],
            [
             0.2222222222222222,
             "#7201a8"
            ],
            [
             0.3333333333333333,
             "#9c179e"
            ],
            [
             0.4444444444444444,
             "#bd3786"
            ],
            [
             0.5555555555555556,
             "#d8576b"
            ],
            [
             0.6666666666666666,
             "#ed7953"
            ],
            [
             0.7777777777777778,
             "#fb9f3a"
            ],
            [
             0.8888888888888888,
             "#fdca26"
            ],
            [
             1,
             "#f0f921"
            ]
           ]
          },
          "colorway": [
           "#636efa",
           "#EF553B",
           "#00cc96",
           "#ab63fa",
           "#FFA15A",
           "#19d3f3",
           "#FF6692",
           "#B6E880",
           "#FF97FF",
           "#FECB52"
          ],
          "font": {
           "color": "#2a3f5f"
          },
          "geo": {
           "bgcolor": "white",
           "lakecolor": "white",
           "landcolor": "#E5ECF6",
           "showlakes": true,
           "showland": true,
           "subunitcolor": "white"
          },
          "hoverlabel": {
           "align": "left"
          },
          "hovermode": "closest",
          "mapbox": {
           "style": "light"
          },
          "paper_bgcolor": "white",
          "plot_bgcolor": "#E5ECF6",
          "polar": {
           "angularaxis": {
            "gridcolor": "white",
            "linecolor": "white",
            "ticks": ""
           },
           "bgcolor": "#E5ECF6",
           "radialaxis": {
            "gridcolor": "white",
            "linecolor": "white",
            "ticks": ""
           }
          },
          "scene": {
           "xaxis": {
            "backgroundcolor": "#E5ECF6",
            "gridcolor": "white",
            "gridwidth": 2,
            "linecolor": "white",
            "showbackground": true,
            "ticks": "",
            "zerolinecolor": "white"
           },
           "yaxis": {
            "backgroundcolor": "#E5ECF6",
            "gridcolor": "white",
            "gridwidth": 2,
            "linecolor": "white",
            "showbackground": true,
            "ticks": "",
            "zerolinecolor": "white"
           },
           "zaxis": {
            "backgroundcolor": "#E5ECF6",
            "gridcolor": "white",
            "gridwidth": 2,
            "linecolor": "white",
            "showbackground": true,
            "ticks": "",
            "zerolinecolor": "white"
           }
          },
          "shapedefaults": {
           "line": {
            "color": "#2a3f5f"
           }
          },
          "ternary": {
           "aaxis": {
            "gridcolor": "white",
            "linecolor": "white",
            "ticks": ""
           },
           "baxis": {
            "gridcolor": "white",
            "linecolor": "white",
            "ticks": ""
           },
           "bgcolor": "#E5ECF6",
           "caxis": {
            "gridcolor": "white",
            "linecolor": "white",
            "ticks": ""
           }
          },
          "title": {
           "x": 0.05
          },
          "xaxis": {
           "automargin": true,
           "gridcolor": "white",
           "linecolor": "white",
           "ticks": "",
           "title": {
            "standoff": 15
           },
           "zerolinecolor": "white",
           "zerolinewidth": 2
          },
          "yaxis": {
           "automargin": true,
           "gridcolor": "white",
           "linecolor": "white",
           "ticks": "",
           "title": {
            "standoff": 15
           },
           "zerolinecolor": "white",
           "zerolinewidth": 2
          }
         }
        },
        "title": {
         "text": "Outreach Priority Distribution (Unmanaged D-SNP)"
        }
       }
      }
     },
     "metadata": {},
     "output_type": "display_data"
    },
    {
     "data": {
      "application/vnd.plotly.v1+json": {
       "config": {
        "plotlyServerURL": "https://plot.ly"
       },
       "data": [
        {
         "hovertemplate": "text_opt_in_label=Opt-in<br>outreach_priority=%{x}<br>count=%{y}<extra></extra>",
         "legendgroup": "Opt-in",
         "marker": {
          "color": "#636efa",
          "pattern": {
           "shape": ""
          }
         },
         "name": "Opt-in",
         "orientation": "v",
         "showlegend": true,
         "textposition": "auto",
         "type": "bar",
         "x": [
          "Low",
          "Low",
          "Low",
          "Medium",
          "Medium",
          "Low",
          "Low",
          "Low",
          "Medium",
          "Low",
          "Low",
          "Low",
          "Medium",
          "Low",
          "Low",
          "Low",
          "High",
          "Medium",
          "Low",
          "Low",
          "Medium",
          "Low",
          "Medium",
          "Low",
          "Low",
          "Medium",
          "Low",
          "Low",
          "Low",
          "Low",
          "Low",
          "Low",
          "Medium",
          "Low",
          "High",
          "Medium",
          "Low",
          "Low",
          "Low",
          "Low",
          "Medium",
          "Low",
          "Medium",
          "Low",
          "Low",
          "Low",
          "Low",
          "Medium",
          "Medium",
          "Low",
          "Low",
          "Medium",
          "Low",
          "Low",
          "Low",
          "Medium",
          "Medium",
          "Low",
          "Low",
          "Low",
          "Medium",
          "Low",
          "Medium",
          "Low",
          "Medium",
          "Low",
          "Low",
          "Low",
          "Low",
          "Low",
          "Low",
          "Medium",
          "Low",
          "Low",
          "Low",
          "Medium",
          "Low",
          "Medium",
          "Low",
          "Low",
          "Low",
          "Low",
          "Medium",
          "Medium",
          "Low",
          "Low",
          "Low",
          "Low",
          "Low",
          "Medium",
          "Low",
          "Medium",
          "Low",
          "Medium",
          "Medium",
          "Medium",
          "Medium",
          "Medium",
          "Low",
          "Low",
          "Medium",
          "Low",
          "Medium",
          "Low",
          "Low",
          "Low",
          "Medium",
          "Low",
          "Low",
          "Medium",
          "Low",
          "Low",
          "Low",
          "Medium",
          "Low",
          "Medium",
          "Low",
          "High",
          "Medium",
          "Low",
          "Low",
          "Low",
          "Low",
          "Medium",
          "Low",
          "Low",
          "Low",
          "Medium",
          "Medium",
          "Medium",
          "Medium",
          "Low",
          "Medium",
          "Low",
          "Low",
          "Low",
          "Low",
          "Low",
          "Medium",
          "Low",
          "Low",
          "Medium",
          "Low",
          "Medium",
          "Medium",
          "Low",
          "Medium",
          "Low",
          "Low",
          "Low",
          "Low",
          "Low",
          "Medium",
          "Low",
          "Medium",
          "Low",
          "Low",
          "Low",
          "Medium",
          "Low",
          "Low",
          "Low",
          "Medium",
          "Medium",
          "Low",
          "Medium",
          "Low",
          "Low",
          "Low",
          "Medium",
          "Medium",
          "Low",
          "Low",
          "Low",
          "Low",
          "Low",
          "Low",
          "Low",
          "Low",
          "Medium",
          "Low",
          "High",
          "Medium",
          "Low",
          "Low",
          "Medium",
          "Low",
          "Medium",
          "Low",
          "Medium",
          "Low",
          "Low",
          "Low",
          "Low",
          "Low",
          "Low",
          "Medium",
          "Medium",
          "Low",
          "Low",
          "Low",
          "Medium",
          "Low",
          "Low",
          "Low",
          "Low",
          "Medium",
          "Low",
          "Low",
          "Low",
          "Low",
          "Low",
          "Medium",
          "Low",
          "Low",
          "Low",
          "Medium",
          "Low",
          "Low",
          "Low",
          "Low",
          "Low",
          "Medium",
          "Medium",
          "Low",
          "Low",
          "Low",
          "Low",
          "Low",
          "Low",
          "Medium",
          "Medium",
          "Low",
          "Low",
          "Low",
          "Medium",
          "Low",
          "Low",
          "Low",
          "High",
          "Low",
          "Low",
          "Low",
          "Low",
          "Low",
          "Low",
          "Low",
          "Low",
          "Low",
          "Medium",
          "Low",
          "Low",
          "Low",
          "Medium",
          "Low",
          "Low",
          "Low",
          "Low",
          "Low",
          "Low",
          "Low",
          "Low",
          "High",
          "Medium",
          "Low",
          "Low",
          "Medium",
          "Low",
          "Low",
          "Low",
          "Medium",
          "Low",
          "Medium",
          "Low",
          "Low",
          "Medium",
          "Medium",
          "Low",
          "Low",
          "Low",
          "Low",
          "Low",
          "Low",
          "Medium",
          "Low",
          "Low",
          "Low",
          "Low",
          "Low",
          "Low",
          "Medium",
          "Low",
          "Low",
          "Low",
          "Low",
          "Low",
          "Low",
          "Low",
          "Medium",
          "Low",
          "Low",
          "Low",
          "Low",
          "Medium",
          "Low",
          "Medium",
          "Low",
          "Medium",
          "Low",
          "Low",
          "Low",
          "Medium",
          "Low",
          "Low",
          "Low",
          "Low",
          "Medium",
          "Low",
          "Low",
          "Low",
          "Low",
          "Low",
          "Medium",
          "Medium",
          "Medium",
          "Low",
          "Medium",
          "Medium",
          "Low",
          "Low",
          "Low",
          "Low",
          "Low",
          "Low",
          "Low",
          "Low",
          "Medium",
          "Low",
          "Medium",
          "Medium",
          "Low",
          "Low",
          "Low",
          "Medium",
          "Low",
          "Low",
          "Medium",
          "Low",
          "Low",
          "Low",
          "Low",
          "Medium",
          "Medium",
          "Low",
          "Medium",
          "Low",
          "Low",
          "Low",
          "Low",
          "Low",
          "Medium",
          "Low",
          "Medium",
          "Low",
          "Medium",
          "Medium",
          "Low",
          "Low",
          "Medium",
          "Low",
          "Medium",
          "Medium",
          "Low",
          "Low",
          "Low",
          "Low",
          "Low",
          "Low",
          "Low",
          "Low",
          "Low",
          "Low",
          "Low",
          "Low",
          "Medium",
          "Low",
          "Low",
          "High",
          "Low",
          "Low",
          "Low",
          "Medium",
          "Low",
          "Low",
          "Medium",
          "Low",
          "Low",
          "Medium",
          "High",
          "Low",
          "Low",
          "Low",
          "Medium",
          "Medium",
          "Low",
          "Low",
          "Low",
          "Low",
          "Medium",
          "High",
          "Low",
          "Medium",
          "Medium",
          "Medium",
          "Low",
          "Low",
          "Medium",
          "Low",
          "Low",
          "Low",
          "Low",
          "Medium",
          "Low",
          "Low",
          "Low",
          "Medium",
          "Low",
          "Low",
          "Medium",
          "Low",
          "Low",
          "Low",
          "High",
          "Low",
          "Low",
          "Low",
          "Low",
          "High",
          "Low",
          "Low",
          "Low",
          "Medium",
          "Low",
          "Medium",
          "Medium",
          "Low",
          "Low",
          "Low",
          "Low",
          "Low",
          "Medium",
          "Low",
          "Medium",
          "Low",
          "Low",
          "Low",
          "Low",
          "Low",
          "Medium",
          "Low",
          "Medium",
          "Medium",
          "Low",
          "Low",
          "Low",
          "Medium",
          "Low",
          "Medium",
          "Medium",
          "Medium",
          "Low",
          "Low",
          "Low",
          "Low",
          "Low",
          "Medium",
          "Low",
          "Low",
          "Low",
          "Low",
          "Low",
          "Low",
          "Medium",
          "Low",
          "Low",
          "Low",
          "Low",
          "Low",
          "Medium",
          "Low",
          "Low",
          "Medium",
          "Low",
          "Medium",
          "Low",
          "Medium",
          "Low",
          "Low",
          "Low",
          "Medium",
          "Medium",
          "Low",
          "Low",
          "Low",
          "Medium",
          "Low",
          "Low",
          "Low",
          "Low",
          "Low",
          "Low",
          "Low",
          "Low",
          "Low",
          "Medium",
          "Low",
          "Low",
          "Low",
          "Low",
          "Low",
          "Low",
          "Medium",
          "Low",
          "Low",
          "Low",
          "Low",
          "Low",
          "Medium",
          "Low",
          "Low",
          "Medium",
          "Medium",
          "Low",
          "Low",
          "High",
          "Medium",
          "Low",
          "Low",
          "High",
          "Low",
          "Low",
          "Medium",
          "Medium",
          "Low",
          "Medium",
          "Low",
          "Low",
          "Low",
          "Low",
          "Low",
          "Low",
          "Low",
          "Medium",
          "Low",
          "Low",
          "Low",
          "Medium",
          "Medium",
          "Medium",
          "Medium",
          "Low",
          "Low",
          "Low",
          "Low",
          "Low",
          "Medium",
          "Low",
          "Medium",
          "Low",
          "Low",
          "Low",
          "Low",
          "Medium",
          "Low",
          "Medium",
          "High",
          "Low",
          "Low",
          "Low",
          "Medium",
          "Low",
          "Low",
          "Low",
          "Low",
          "Low",
          "Low",
          "Low",
          "Low",
          "Medium",
          "Medium",
          "Low",
          "Low",
          "Medium",
          "Medium",
          "Medium",
          "High",
          "Low",
          "Low",
          "Low",
          "Medium",
          "Medium",
          "Low",
          "Low",
          "Low",
          "Low",
          "Low",
          "Low",
          "Low",
          "Low",
          "Medium",
          "Medium",
          "Medium",
          "Medium",
          "Low",
          "Medium",
          "Medium",
          "Medium",
          "Low",
          "Low",
          "Low",
          "Low",
          "Low",
          "Low",
          "Low",
          "Low",
          "Low",
          "Medium",
          "Low",
          "Medium",
          "Low",
          "Low",
          "Medium",
          "Low",
          "Medium",
          "Low",
          "Low",
          "Low",
          "Medium",
          "Low",
          "Low",
          "Medium",
          "Low",
          "Low",
          "Low",
          "Medium",
          "Low",
          "Low",
          "Low",
          "Low",
          "Low",
          "Medium",
          "Low",
          "Low",
          "Low",
          "Low",
          "Low",
          "Low",
          "Low",
          "Low",
          "Low",
          "Low",
          "Low",
          "Low",
          "Medium",
          "Medium",
          "Low",
          "Low",
          "Medium",
          "High",
          "Low",
          "Low",
          "Low",
          "Medium",
          "Low",
          "Medium",
          "Low",
          "Low",
          "Low",
          "Low",
          "Low",
          "Low",
          "Medium",
          "Low",
          "Low",
          "Medium",
          "Low",
          "Low",
          "Medium",
          "Low",
          "Low",
          "Medium",
          "Low",
          "Low",
          "Low",
          "Low",
          "Low",
          "Medium",
          "Low",
          "Low",
          "Low",
          "Medium",
          "Medium",
          "Low",
          "Low",
          "Low",
          "High",
          "Low",
          "Low",
          "Low",
          "Medium",
          "Low",
          "High",
          "Low",
          "Medium",
          "Low",
          "Low",
          "Low",
          "Low",
          "Low",
          "Low",
          "Low",
          "Low",
          "Medium",
          "Low",
          "Medium",
          "Low",
          "Low",
          "Low",
          "Medium",
          "High",
          "Medium",
          "Low",
          "Low",
          "Medium",
          "Low",
          "Low",
          "Medium",
          "Low",
          "Medium",
          "Medium",
          "Low",
          "Low",
          "Medium",
          "Medium",
          "Low",
          "Low",
          "Medium",
          "Medium",
          "Medium",
          "Medium",
          "Low",
          "Low",
          "Medium",
          "Low",
          "Low",
          "Low",
          "Low",
          "Medium",
          "Low",
          "Low",
          "Medium",
          "Low",
          "Low",
          "Low",
          "Low",
          "Low",
          "Medium",
          "Medium",
          "Medium",
          "Low",
          "Low",
          "Low",
          "Medium",
          "Low",
          "Low",
          "Low",
          "Low",
          "Medium",
          "Medium",
          "Low",
          "Medium",
          "Low",
          "Low",
          "Medium",
          "Low",
          "Low",
          "Low",
          "Low",
          "Low",
          "Low",
          "Medium",
          "High",
          "Low",
          "Low",
          "Low",
          "Low",
          "Low",
          "Medium",
          "Medium",
          "Medium",
          "Medium",
          "Low",
          "Low",
          "Low",
          "Medium",
          "Low",
          "Medium",
          "Low",
          "Low",
          "Low",
          "Medium",
          "Low",
          "Low",
          "Low",
          "Low",
          "Low",
          "Medium",
          "Low",
          "Low",
          "Low",
          "Low",
          "Low",
          "Low",
          "Low",
          "Medium",
          "Low",
          "Low",
          "Low",
          "Medium",
          "Low",
          "Low",
          "Medium",
          "Medium",
          "Low",
          "Medium",
          "Medium",
          "High",
          "Low",
          "Low",
          "High",
          "Medium",
          "Low",
          "Low",
          "Medium",
          "Low",
          "Low",
          "Medium",
          "Low",
          "Low",
          "Low",
          "Low",
          "Low",
          "Low",
          "Low",
          "Low",
          "Low",
          "Medium",
          "Medium",
          "Low",
          "Low",
          "Low",
          "Low",
          "Low",
          "Medium",
          "Low",
          "Medium",
          "Low",
          "Low",
          "Medium",
          "Medium",
          "Low",
          "Medium",
          "Low",
          "Low",
          "Low",
          "Medium",
          "Low",
          "Medium",
          "Low",
          "Low",
          "Low",
          "High",
          "Medium",
          "Low",
          "Low",
          "Low",
          "Medium",
          "Low",
          "Low",
          "Low",
          "Medium",
          "Medium",
          "Medium",
          "Medium",
          "Low",
          "Low",
          "Low",
          "Low",
          "Low",
          "Low",
          "Medium",
          "Medium",
          "Medium",
          "Low",
          "Low",
          "Low",
          "Low",
          "Medium",
          "Low",
          "Low",
          "Low",
          "Low",
          "Medium",
          "Low",
          "Low",
          "Low",
          "Low",
          "Low",
          "Low",
          "Medium",
          "Low",
          "Low",
          "Medium",
          "Medium",
          "Low",
          "Low",
          "Low",
          "Low",
          "Low",
          "Low",
          "Low",
          "High",
          "High",
          "Low",
          "Low",
          "Low",
          "Low",
          "Low",
          "Low",
          "Low",
          "Medium",
          "Low",
          "Low",
          "Low",
          "Medium",
          "Low",
          "Low",
          "Low",
          "Low",
          "Low",
          "Low",
          "Medium",
          "Medium",
          "Low",
          "Medium",
          "Medium",
          "Low",
          "Low",
          "Low",
          "Low",
          "Low",
          "High",
          "Low",
          "Low",
          "High",
          "Low",
          "High",
          "Low",
          "Low",
          "Low",
          "Medium",
          "Low",
          "Medium",
          "Medium",
          "Low",
          "High",
          "Low",
          "Low",
          "Low",
          "High",
          "Medium",
          "Low",
          "Medium",
          "Medium",
          "Low",
          "Low",
          "Low",
          "Medium",
          "Medium",
          "Low",
          "Low",
          "Medium",
          "Medium",
          "Low",
          "Medium",
          "Low",
          "Low",
          "Low",
          "Low",
          "Low",
          "Medium",
          "Medium",
          "Medium",
          "Low",
          "Low",
          "Low",
          "Low",
          "Low",
          "Low",
          "Low",
          "Medium",
          "Low",
          "Low",
          "Low",
          "High",
          "Low",
          "Low",
          "Low",
          "Low",
          "Low",
          "Low",
          "Low",
          "Medium",
          "High",
          "Low",
          "Low",
          "Low",
          "Medium",
          "Low",
          "Low",
          "Low",
          "Medium",
          "Low",
          "Low",
          "Medium",
          "Low",
          "Low",
          "Medium",
          "Low",
          "Low",
          "Medium",
          "Low",
          "Low",
          "Low",
          "Medium",
          "Low",
          "Low",
          "High",
          "Low",
          "Low",
          "Low",
          "Medium",
          "Medium",
          "Medium",
          "Low",
          "Low",
          "Low",
          "Low",
          "Low",
          "Low",
          "Low",
          "Low",
          "Low",
          "High",
          "Low",
          "Low",
          "Low",
          "Low",
          "Low",
          "Low",
          "Low",
          "Medium",
          "High",
          "Low",
          "Medium",
          "Low",
          "Medium",
          "Low",
          "Low",
          "Medium",
          "Low",
          "Low",
          "Low",
          "Low",
          "Medium",
          "Medium",
          "Low",
          "Low",
          "Medium",
          "Low",
          "Low",
          "Low",
          "Low",
          "Medium",
          "Medium",
          "Low",
          "Medium",
          "Low",
          "Low",
          "Low",
          "Low",
          "Medium",
          "Low",
          "Low",
          "Low",
          "Low",
          "Medium",
          "Medium",
          "Low",
          "Low",
          "Medium",
          "Low",
          "Medium",
          "Medium",
          "Medium",
          "Medium",
          "Low",
          "Low",
          "Low",
          "Low",
          "Low",
          "Medium",
          "Low",
          "Medium",
          "Low",
          "Low",
          "Medium",
          "Low",
          "Medium",
          "Medium",
          "Low",
          "Low",
          "Medium",
          "Low",
          "Low",
          "Low",
          "Low",
          "Low",
          "Low",
          "Low",
          "Low",
          "Low",
          "Medium",
          "Low",
          "Low",
          "Low",
          "Medium",
          "Medium",
          "Low",
          "Low",
          "Medium",
          "Medium",
          "Low",
          "Low",
          "Medium",
          "Low",
          "Low",
          "Low",
          "Low",
          "Low",
          "Medium",
          "Medium",
          "Low",
          "Low",
          "Medium",
          "Low",
          "Low",
          "Low",
          "High",
          "Low",
          "Low",
          "Medium",
          "Medium",
          "Low",
          "Medium",
          "Low",
          "Medium",
          "Medium",
          "Low",
          "High",
          "High",
          "Low",
          "Medium",
          "Low",
          "Low",
          "Low",
          "Low",
          "Low",
          "Low",
          "High",
          "High",
          "Medium",
          "Low",
          "Low",
          "Medium",
          "Low",
          "Low",
          "Low",
          "Low",
          "High",
          "Low",
          "Low",
          "Low",
          "High",
          "High",
          "Low",
          "Low",
          "Low",
          "Medium",
          "Medium",
          "Low",
          "Medium",
          "Low",
          "Medium",
          "Low",
          "Low",
          "Low",
          "Low",
          "Low",
          "High",
          "Low",
          "Low",
          "Medium",
          "Low",
          "Low",
          "High",
          "Medium",
          "Low",
          "Low",
          "Low",
          "Medium",
          "Low",
          "Low",
          "Low",
          "Low",
          "Low",
          "Low",
          "Low",
          "Medium",
          "Low",
          "Low",
          "Medium",
          "Medium",
          "Low",
          "Low",
          "Low",
          "Low",
          "Medium",
          "Low",
          "Medium",
          "Low",
          "Low",
          "Low",
          "Low",
          "Low",
          "Low",
          "Low",
          "Medium",
          "Medium",
          "Low",
          "Low",
          "Low",
          "Medium",
          "Low",
          "Low",
          "Low",
          "High",
          "Medium",
          "Medium",
          "Medium",
          "Medium",
          "Medium",
          "Low",
          "Low",
          "Low",
          "Low",
          "High",
          "Low",
          "Low",
          "Low",
          "Low",
          "Medium",
          "Low",
          "Low",
          "Low",
          "Low",
          "Low",
          "Low",
          "Low",
          "Low",
          "Low",
          "Medium",
          "Medium",
          "Low",
          "Medium",
          "Medium",
          "Low",
          "Low",
          "Low",
          "Medium",
          "Medium",
          "Low",
          "Medium",
          "Medium",
          "Medium",
          "Low",
          "Low",
          "Low",
          "Low",
          "Medium",
          "Low",
          "Medium",
          "Low",
          "Low",
          "Low",
          "Medium",
          "Medium",
          "High",
          "Low",
          "Low",
          "Low",
          "Low",
          "Low",
          "Low",
          "Low",
          "Low",
          "Low",
          "Low",
          "Low",
          "Low",
          "Medium",
          "Medium",
          "Medium",
          "Low",
          "Medium",
          "Low",
          "Low",
          "Low",
          "High",
          "Low",
          "Medium",
          "Medium",
          "Low",
          "Low",
          "Low",
          "Low",
          "Medium",
          "Medium",
          "Low",
          "Low",
          "Low",
          "Low",
          "Low",
          "Low",
          "Low",
          "Low",
          "Medium",
          "Low",
          "Low",
          "Low",
          "Low",
          "Low",
          "Low",
          "Low",
          "Low",
          "Medium",
          "Low",
          "Low",
          "Low",
          "Low",
          "Low",
          "Low",
          "Medium",
          "Low",
          "High",
          "Medium",
          "Medium",
          "Low",
          "Low",
          "Medium",
          "Low",
          "Medium",
          "Low",
          "Low",
          "Low",
          "Low",
          "Low",
          "Low",
          "Low",
          "Low",
          "Medium",
          "High",
          "Medium",
          "Low",
          "Low",
          "Low",
          "Low",
          "Low",
          "High",
          "Medium",
          "Low",
          "Low",
          "Low",
          "Low",
          "Low",
          "Low",
          "Low",
          "Medium",
          "Low",
          "Low",
          "High",
          "Medium",
          "Medium",
          "Low",
          "Medium",
          "Low",
          "Low",
          "Low",
          "Medium",
          "Low",
          "Medium",
          "Medium",
          "Medium",
          "Low",
          "Low",
          "Medium",
          "Low",
          "Low",
          "Low",
          "Low",
          "Medium",
          "Low",
          "Medium",
          "Low",
          "Low",
          "High",
          "Low",
          "Low",
          "Low",
          "Low",
          "Low",
          "Low",
          "Medium",
          "Medium",
          "Medium",
          "Low",
          "Low",
          "Medium",
          "Low",
          "Medium",
          "Medium",
          "Low",
          "Low",
          "Low",
          "Low",
          "Low",
          "Low",
          "Medium",
          "Low",
          "Low",
          "Low",
          "Low",
          "Low",
          "Low",
          "Low",
          "Low",
          "Low",
          "Medium",
          "Low",
          "Low",
          "Low",
          "Low",
          "Low",
          "Low",
          "High",
          "Medium",
          "Low",
          "Low",
          "Low",
          "Low",
          "Low",
          "Low",
          "Low",
          "Medium",
          "Medium",
          "Low",
          "Low",
          "Low",
          "Low",
          "Low",
          "Low",
          "Low",
          "Low",
          "Low",
          "Medium",
          "Low",
          "Medium",
          "Low",
          "High",
          "Low",
          "Medium",
          "Medium",
          "Medium",
          "Low",
          "Low",
          "Low",
          "Low",
          "Low",
          "Low",
          "Low",
          "Medium",
          "Low",
          "Low",
          "Low",
          "Low",
          "Low",
          "Low",
          "High",
          "Low",
          "Medium",
          "Low",
          "Low",
          "Low",
          "Low",
          "Low",
          "Low",
          "Low",
          "Medium",
          "Low",
          "Low",
          "Low",
          "Low",
          "Medium",
          "Low",
          "Medium",
          "Medium",
          "Low",
          "Low",
          "Low",
          "Low",
          "Low",
          "Low",
          "Medium",
          "Low",
          "Low",
          "High",
          "Medium",
          "Low",
          "Medium",
          "Low",
          "Medium",
          "Low",
          "Medium",
          "Low",
          "Medium",
          "Low",
          "Medium",
          "Low",
          "Low",
          "Medium",
          "Medium",
          "Low",
          "High",
          "Medium",
          "Low",
          "Low",
          "Low",
          "Low",
          "Medium",
          "Low",
          "Low",
          "Low",
          "Medium",
          "Medium",
          "Low",
          "Low",
          "Low",
          "Medium",
          "Medium",
          "Low",
          "Low",
          "Low",
          "Low",
          "Low",
          "Low",
          "Low",
          "Low",
          "Low",
          "Low",
          "Medium",
          "Medium",
          "Low",
          "Medium",
          "Low",
          "Low",
          "Low",
          "Low",
          "Low",
          "Medium",
          "Low",
          "Low",
          "Low",
          "Low",
          "Low",
          "Low",
          "Low",
          "Low",
          "Low",
          "Low",
          "Medium",
          "Medium",
          "Medium",
          "Low",
          "Low",
          "Low",
          "Low",
          "Low",
          "Low",
          "Low",
          "Low",
          "Medium",
          "Low",
          "Medium",
          "Medium",
          "Low"
         ],
         "xaxis": "x",
         "y": {
          "bdata": "AQEBAQEBAQEBAQEBAQEBAQEBAQEBAQEBAQEBAQEBAQEBAQEBAQEBAQEBAQEBAQEBAQEBAQEBAQEBAQEBAQEBAQEBAQEBAQEBAQEBAQEBAQEBAQEBAQEBAQEBAQEBAQEBAQEBAQEBAQEBAQEBAQEBAQEBAQEBAQEBAQEBAQEBAQEBAQEBAQEBAQEBAQEBAQEBAQEBAQEBAQEBAQEBAQEBAQEBAQEBAQEBAQEBAQEBAQEBAQEBAQEBAQEBAQEBAQEBAQEBAQEBAQEBAQEBAQEBAQEBAQEBAQEBAQEBAQEBAQEBAQEBAQEBAQEBAQEBAQEBAQEBAQEBAQEBAQEBAQEBAQEBAQEBAQEBAQEBAQEBAQEBAQEBAQEBAQEBAQEBAQEBAQEBAQEBAQEBAQEBAQEBAQEBAQEBAQEBAQEBAQEBAQEBAQEBAQEBAQEBAQEBAQEBAQEBAQEBAQEBAQEBAQEBAQEBAQEBAQEBAQEBAQEBAQEBAQEBAQEBAQEBAQEBAQEBAQEBAQEBAQEBAQEBAQEBAQEBAQEBAQEBAQEBAQEBAQEBAQEBAQEBAQEBAQEBAQEBAQEBAQEBAQEBAQEBAQEBAQEBAQEBAQEBAQEBAQEBAQEBAQEBAQEBAQEBAQEBAQEBAQEBAQEBAQEBAQEBAQEBAQEBAQEBAQEBAQEBAQEBAQEBAQEBAQEBAQEBAQEBAQEBAQEBAQEBAQEBAQEBAQEBAQEBAQEBAQEBAQEBAQEBAQEBAQEBAQEBAQEBAQEBAQEBAQEBAQEBAQEBAQEBAQEBAQEBAQEBAQEBAQEBAQEBAQEBAQEBAQEBAQEBAQEBAQEBAQEBAQEBAQEBAQEBAQEBAQEBAQEBAQEBAQEBAQEBAQEBAQEBAQEBAQEBAQEBAQEBAQEBAQEBAQEBAQEBAQEBAQEBAQEBAQEBAQEBAQEBAQEBAQEBAQEBAQEBAQEBAQEBAQEBAQEBAQEBAQEBAQEBAQEBAQEBAQEBAQEBAQEBAQEBAQEBAQEBAQEBAQEBAQEBAQEBAQEBAQEBAQEBAQEBAQEBAQEBAQEBAQEBAQEBAQEBAQEBAQEBAQEBAQEBAQEBAQEBAQEBAQEBAQEBAQEBAQEBAQEBAQEBAQEBAQEBAQEBAQEBAQEBAQEBAQEBAQEBAQEBAQEBAQEBAQEBAQEBAQEBAQEBAQEBAQEBAQEBAQEBAQEBAQEBAQEBAQEBAQEBAQEBAQEBAQEBAQEBAQEBAQEBAQEBAQEBAQEBAQEBAQEBAQEBAQEBAQEBAQEBAQEBAQEBAQEBAQEBAQEBAQEBAQEBAQEBAQEBAQEBAQEBAQEBAQEBAQEBAQEBAQEBAQEBAQEBAQEBAQEBAQEBAQEBAQEBAQEBAQEBAQEBAQEBAQEBAQEBAQEBAQEBAQEBAQEBAQEBAQEBAQEBAQEBAQEBAQEBAQEBAQEBAQEBAQEBAQEBAQEBAQEBAQEBAQEBAQEBAQEBAQEBAQEBAQEBAQEBAQEBAQEBAQEBAQEBAQEBAQEBAQEBAQEBAQEBAQEBAQEBAQEBAQEBAQEBAQEBAQEBAQEBAQEBAQEBAQEBAQEBAQEBAQEBAQEBAQEBAQEBAQEBAQEBAQEBAQEBAQEBAQEBAQEBAQEBAQEBAQEBAQEBAQEBAQEBAQEBAQEBAQEBAQEBAQEBAQEBAQEBAQEBAQEBAQEBAQEBAQEBAQEBAQEBAQEBAQEBAQEBAQEBAQEBAQEBAQEBAQEBAQEBAQEBAQEBAQEBAQEBAQEBAQEBAQEBAQEBAQEBAQEBAQEBAQEBAQEBAQEBAQEBAQEBAQEBAQEBAQEBAQEBAQEBAQEBAQEBAQEBAQEBAQEBAQEBAQEBAQEBAQEBAQEBAQEBAQEBAQEBAQEBAQEBAQEBAQEBAQEBAQEBAQEBAQEBAQEBAQEBAQEBAQEBAQEBAQEBAQEBAQEBAQEBAQEBAQEBAQEBAQEBAQEBAQEBAQEBAQEBAQEBAQEBAQEBAQEBAQEBAQEBAQEBAQEBAQEBAQEBAQEBAQEBAQEBAQEBAQEBAQEBAQEBAQEBAQEBAQEBAQEBAQEBAQEBAQEBAQEBAQEBAQEBAQEBAQEBAQEBAQEBAQEBAQEBAQEBAQEBAQEBAQEBAQEBAQEBAQEBAQEBAQEBAQEBAQEBAQEBAQEBAQEBAQE=",
          "dtype": "i1"
         },
         "yaxis": "y"
        },
        {
         "hovertemplate": "text_opt_in_label=No Opt-in<br>outreach_priority=%{x}<br>count=%{y}<extra></extra>",
         "legendgroup": "No Opt-in",
         "marker": {
          "color": "#EF553B",
          "pattern": {
           "shape": ""
          }
         },
         "name": "No Opt-in",
         "orientation": "v",
         "showlegend": true,
         "textposition": "auto",
         "type": "bar",
         "x": [
          "Medium",
          "Low",
          "Low",
          "Low",
          "Medium",
          "Medium",
          "Low",
          "Medium",
          "Low",
          "Low",
          "Medium",
          "Low",
          "Low",
          "Low",
          "Medium",
          "Low",
          "Low",
          "Medium",
          "Low",
          "Medium",
          "Low",
          "Low",
          "Medium",
          "Low",
          "Medium",
          "Low",
          "Low",
          "Medium",
          "Medium",
          "Medium",
          "Medium",
          "Medium",
          "Medium",
          "Low",
          "Low",
          "Medium",
          "High",
          "Medium",
          "Low",
          "High",
          "Low",
          "Low",
          "Low",
          "Low",
          "Medium",
          "Medium",
          "Low",
          "Low",
          "Low",
          "Medium",
          "Medium",
          "Low",
          "Low",
          "Medium",
          "Medium",
          "Medium",
          "Medium",
          "Medium",
          "Low",
          "Low",
          "Low",
          "Low",
          "Medium",
          "Low",
          "Low",
          "Low",
          "Medium",
          "Low",
          "Medium",
          "Medium",
          "Medium",
          "High",
          "Low",
          "Low",
          "Low",
          "Low",
          "Low",
          "Low",
          "Low",
          "High",
          "Low",
          "Medium",
          "Medium",
          "Low",
          "High",
          "Medium",
          "Low",
          "Low",
          "Low",
          "Medium",
          "Low",
          "Medium",
          "Medium",
          "Medium",
          "Low",
          "Medium",
          "Low",
          "Medium",
          "Low",
          "Low",
          "Medium",
          "Low",
          "Medium",
          "Low",
          "Medium",
          "Low",
          "Medium",
          "Medium",
          "Low",
          "Medium",
          "Medium",
          "Low",
          "High",
          "High",
          "Low",
          "Low",
          "Medium",
          "Medium",
          "Medium",
          "Medium",
          "Low",
          "High",
          "Medium",
          "High",
          "Medium",
          "Low",
          "Low",
          "Medium",
          "Low",
          "Low",
          "Low",
          "Medium",
          "Low",
          "Medium",
          "Medium",
          "Low",
          "Low",
          "Low",
          "Medium",
          "Low",
          "Low",
          "Low",
          "Medium",
          "Medium",
          "Low",
          "Low",
          "Medium",
          "Low",
          "Medium",
          "Low",
          "Low",
          "Medium",
          "Medium",
          "Low",
          "Medium",
          "Medium",
          "Medium",
          "Medium",
          "Medium",
          "Medium",
          "Low",
          "Medium",
          "Low",
          "High",
          "Medium",
          "Medium",
          "Medium",
          "Low",
          "Medium",
          "Medium",
          "Low",
          "Medium",
          "Medium",
          "Low",
          "High",
          "Low",
          "High",
          "High",
          "Medium",
          "Low",
          "Medium",
          "Medium",
          "Low",
          "Medium",
          "Medium",
          "High",
          "Medium",
          "Low",
          "Medium",
          "Medium",
          "Low",
          "Low",
          "Medium",
          "Low",
          "Low",
          "Low",
          "Low",
          "Low",
          "Medium",
          "Low",
          "High",
          "Low",
          "Medium",
          "Low",
          "Low",
          "Low",
          "Low",
          "Low",
          "High",
          "Medium",
          "High",
          "Low",
          "Medium",
          "Low",
          "High",
          "Low",
          "Low",
          "Medium",
          "Low",
          "Medium",
          "Medium",
          "Low",
          "Low",
          "Medium",
          "Low",
          "Medium",
          "Medium",
          "Medium",
          "Low",
          "Medium",
          "Low",
          "High",
          "High",
          "Low",
          "Medium",
          "Low",
          "Medium",
          "Medium",
          "Low",
          "Medium",
          "Medium",
          "Low",
          "Medium",
          "High",
          "Medium",
          "High",
          "Low",
          "Low",
          "Low",
          "Medium",
          "Medium",
          "High",
          "Low",
          "Low",
          "High",
          "Medium",
          "Medium",
          "Low",
          "High",
          "Medium",
          "Low",
          "Low",
          "Medium",
          "Low",
          "Low",
          "Low",
          "Medium",
          "Low",
          "Low",
          "Low",
          "Low",
          "High",
          "Medium"
         ],
         "xaxis": "x",
         "y": {
          "bdata": "AQEBAQEBAQEBAQEBAQEBAQEBAQEBAQEBAQEBAQEBAQEBAQEBAQEBAQEBAQEBAQEBAQEBAQEBAQEBAQEBAQEBAQEBAQEBAQEBAQEBAQEBAQEBAQEBAQEBAQEBAQEBAQEBAQEBAQEBAQEBAQEBAQEBAQEBAQEBAQEBAQEBAQEBAQEBAQEBAQEBAQEBAQEBAQEBAQEBAQEBAQEBAQEBAQEBAQEBAQEBAQEBAQEBAQEBAQEBAQEBAQEBAQEBAQEBAQEBAQEBAQEBAQEBAQEBAQEBAQEBAQEBAQEBAQEBAQEBAQEBAQEBAQEBAQEBAQEBAQEBAQEBAQEBAQEBAQEBAQEBAQEBAQEBAQEBAQEBAQEBAQEB",
          "dtype": "i1"
         },
         "yaxis": "y"
        }
       ],
       "layout": {
        "barmode": "stack",
        "legend": {
         "title": {
          "text": "text_opt_in_label"
         },
         "tracegroupgap": 0
        },
        "template": {
         "data": {
          "bar": [
           {
            "error_x": {
             "color": "#2a3f5f"
            },
            "error_y": {
             "color": "#2a3f5f"
            },
            "marker": {
             "line": {
              "color": "#E5ECF6",
              "width": 0.5
             },
             "pattern": {
              "fillmode": "overlay",
              "size": 10,
              "solidity": 0.2
             }
            },
            "type": "bar"
           }
          ],
          "barpolar": [
           {
            "marker": {
             "line": {
              "color": "#E5ECF6",
              "width": 0.5
             },
             "pattern": {
              "fillmode": "overlay",
              "size": 10,
              "solidity": 0.2
             }
            },
            "type": "barpolar"
           }
          ],
          "carpet": [
           {
            "aaxis": {
             "endlinecolor": "#2a3f5f",
             "gridcolor": "white",
             "linecolor": "white",
             "minorgridcolor": "white",
             "startlinecolor": "#2a3f5f"
            },
            "baxis": {
             "endlinecolor": "#2a3f5f",
             "gridcolor": "white",
             "linecolor": "white",
             "minorgridcolor": "white",
             "startlinecolor": "#2a3f5f"
            },
            "type": "carpet"
           }
          ],
          "choropleth": [
           {
            "colorbar": {
             "outlinewidth": 0,
             "ticks": ""
            },
            "type": "choropleth"
           }
          ],
          "contour": [
           {
            "colorbar": {
             "outlinewidth": 0,
             "ticks": ""
            },
            "colorscale": [
             [
              0,
              "#0d0887"
             ],
             [
              0.1111111111111111,
              "#46039f"
             ],
             [
              0.2222222222222222,
              "#7201a8"
             ],
             [
              0.3333333333333333,
              "#9c179e"
             ],
             [
              0.4444444444444444,
              "#bd3786"
             ],
             [
              0.5555555555555556,
              "#d8576b"
             ],
             [
              0.6666666666666666,
              "#ed7953"
             ],
             [
              0.7777777777777778,
              "#fb9f3a"
             ],
             [
              0.8888888888888888,
              "#fdca26"
             ],
             [
              1,
              "#f0f921"
             ]
            ],
            "type": "contour"
           }
          ],
          "contourcarpet": [
           {
            "colorbar": {
             "outlinewidth": 0,
             "ticks": ""
            },
            "type": "contourcarpet"
           }
          ],
          "heatmap": [
           {
            "colorbar": {
             "outlinewidth": 0,
             "ticks": ""
            },
            "colorscale": [
             [
              0,
              "#0d0887"
             ],
             [
              0.1111111111111111,
              "#46039f"
             ],
             [
              0.2222222222222222,
              "#7201a8"
             ],
             [
              0.3333333333333333,
              "#9c179e"
             ],
             [
              0.4444444444444444,
              "#bd3786"
             ],
             [
              0.5555555555555556,
              "#d8576b"
             ],
             [
              0.6666666666666666,
              "#ed7953"
             ],
             [
              0.7777777777777778,
              "#fb9f3a"
             ],
             [
              0.8888888888888888,
              "#fdca26"
             ],
             [
              1,
              "#f0f921"
             ]
            ],
            "type": "heatmap"
           }
          ],
          "histogram": [
           {
            "marker": {
             "pattern": {
              "fillmode": "overlay",
              "size": 10,
              "solidity": 0.2
             }
            },
            "type": "histogram"
           }
          ],
          "histogram2d": [
           {
            "colorbar": {
             "outlinewidth": 0,
             "ticks": ""
            },
            "colorscale": [
             [
              0,
              "#0d0887"
             ],
             [
              0.1111111111111111,
              "#46039f"
             ],
             [
              0.2222222222222222,
              "#7201a8"
             ],
             [
              0.3333333333333333,
              "#9c179e"
             ],
             [
              0.4444444444444444,
              "#bd3786"
             ],
             [
              0.5555555555555556,
              "#d8576b"
             ],
             [
              0.6666666666666666,
              "#ed7953"
             ],
             [
              0.7777777777777778,
              "#fb9f3a"
             ],
             [
              0.8888888888888888,
              "#fdca26"
             ],
             [
              1,
              "#f0f921"
             ]
            ],
            "type": "histogram2d"
           }
          ],
          "histogram2dcontour": [
           {
            "colorbar": {
             "outlinewidth": 0,
             "ticks": ""
            },
            "colorscale": [
             [
              0,
              "#0d0887"
             ],
             [
              0.1111111111111111,
              "#46039f"
             ],
             [
              0.2222222222222222,
              "#7201a8"
             ],
             [
              0.3333333333333333,
              "#9c179e"
             ],
             [
              0.4444444444444444,
              "#bd3786"
             ],
             [
              0.5555555555555556,
              "#d8576b"
             ],
             [
              0.6666666666666666,
              "#ed7953"
             ],
             [
              0.7777777777777778,
              "#fb9f3a"
             ],
             [
              0.8888888888888888,
              "#fdca26"
             ],
             [
              1,
              "#f0f921"
             ]
            ],
            "type": "histogram2dcontour"
           }
          ],
          "mesh3d": [
           {
            "colorbar": {
             "outlinewidth": 0,
             "ticks": ""
            },
            "type": "mesh3d"
           }
          ],
          "parcoords": [
           {
            "line": {
             "colorbar": {
              "outlinewidth": 0,
              "ticks": ""
             }
            },
            "type": "parcoords"
           }
          ],
          "pie": [
           {
            "automargin": true,
            "type": "pie"
           }
          ],
          "scatter": [
           {
            "fillpattern": {
             "fillmode": "overlay",
             "size": 10,
             "solidity": 0.2
            },
            "type": "scatter"
           }
          ],
          "scatter3d": [
           {
            "line": {
             "colorbar": {
              "outlinewidth": 0,
              "ticks": ""
             }
            },
            "marker": {
             "colorbar": {
              "outlinewidth": 0,
              "ticks": ""
             }
            },
            "type": "scatter3d"
           }
          ],
          "scattercarpet": [
           {
            "marker": {
             "colorbar": {
              "outlinewidth": 0,
              "ticks": ""
             }
            },
            "type": "scattercarpet"
           }
          ],
          "scattergeo": [
           {
            "marker": {
             "colorbar": {
              "outlinewidth": 0,
              "ticks": ""
             }
            },
            "type": "scattergeo"
           }
          ],
          "scattergl": [
           {
            "marker": {
             "colorbar": {
              "outlinewidth": 0,
              "ticks": ""
             }
            },
            "type": "scattergl"
           }
          ],
          "scattermap": [
           {
            "marker": {
             "colorbar": {
              "outlinewidth": 0,
              "ticks": ""
             }
            },
            "type": "scattermap"
           }
          ],
          "scattermapbox": [
           {
            "marker": {
             "colorbar": {
              "outlinewidth": 0,
              "ticks": ""
             }
            },
            "type": "scattermapbox"
           }
          ],
          "scatterpolar": [
           {
            "marker": {
             "colorbar": {
              "outlinewidth": 0,
              "ticks": ""
             }
            },
            "type": "scatterpolar"
           }
          ],
          "scatterpolargl": [
           {
            "marker": {
             "colorbar": {
              "outlinewidth": 0,
              "ticks": ""
             }
            },
            "type": "scatterpolargl"
           }
          ],
          "scatterternary": [
           {
            "marker": {
             "colorbar": {
              "outlinewidth": 0,
              "ticks": ""
             }
            },
            "type": "scatterternary"
           }
          ],
          "surface": [
           {
            "colorbar": {
             "outlinewidth": 0,
             "ticks": ""
            },
            "colorscale": [
             [
              0,
              "#0d0887"
             ],
             [
              0.1111111111111111,
              "#46039f"
             ],
             [
              0.2222222222222222,
              "#7201a8"
             ],
             [
              0.3333333333333333,
              "#9c179e"
             ],
             [
              0.4444444444444444,
              "#bd3786"
             ],
             [
              0.5555555555555556,
              "#d8576b"
             ],
             [
              0.6666666666666666,
              "#ed7953"
             ],
             [
              0.7777777777777778,
              "#fb9f3a"
             ],
             [
              0.8888888888888888,
              "#fdca26"
             ],
             [
              1,
              "#f0f921"
             ]
            ],
            "type": "surface"
           }
          ],
          "table": [
           {
            "cells": {
             "fill": {
              "color": "#EBF0F8"
             },
             "line": {
              "color": "white"
             }
            },
            "header": {
             "fill": {
              "color": "#C8D4E3"
             },
             "line": {
              "color": "white"
             }
            },
            "type": "table"
           }
          ]
         },
         "layout": {
          "annotationdefaults": {
           "arrowcolor": "#2a3f5f",
           "arrowhead": 0,
           "arrowwidth": 1
          },
          "autotypenumbers": "strict",
          "coloraxis": {
           "colorbar": {
            "outlinewidth": 0,
            "ticks": ""
           }
          },
          "colorscale": {
           "diverging": [
            [
             0,
             "#8e0152"
            ],
            [
             0.1,
             "#c51b7d"
            ],
            [
             0.2,
             "#de77ae"
            ],
            [
             0.3,
             "#f1b6da"
            ],
            [
             0.4,
             "#fde0ef"
            ],
            [
             0.5,
             "#f7f7f7"
            ],
            [
             0.6,
             "#e6f5d0"
            ],
            [
             0.7,
             "#b8e186"
            ],
            [
             0.8,
             "#7fbc41"
            ],
            [
             0.9,
             "#4d9221"
            ],
            [
             1,
             "#276419"
            ]
           ],
           "sequential": [
            [
             0,
             "#0d0887"
            ],
            [
             0.1111111111111111,
             "#46039f"
            ],
            [
             0.2222222222222222,
             "#7201a8"
            ],
            [
             0.3333333333333333,
             "#9c179e"
            ],
            [
             0.4444444444444444,
             "#bd3786"
            ],
            [
             0.5555555555555556,
             "#d8576b"
            ],
            [
             0.6666666666666666,
             "#ed7953"
            ],
            [
             0.7777777777777778,
             "#fb9f3a"
            ],
            [
             0.8888888888888888,
             "#fdca26"
            ],
            [
             1,
             "#f0f921"
            ]
           ],
           "sequentialminus": [
            [
             0,
             "#0d0887"
            ],
            [
             0.1111111111111111,
             "#46039f"
            ],
            [
             0.2222222222222222,
             "#7201a8"
            ],
            [
             0.3333333333333333,
             "#9c179e"
            ],
            [
             0.4444444444444444,
             "#bd3786"
            ],
            [
             0.5555555555555556,
             "#d8576b"
            ],
            [
             0.6666666666666666,
             "#ed7953"
            ],
            [
             0.7777777777777778,
             "#fb9f3a"
            ],
            [
             0.8888888888888888,
             "#fdca26"
            ],
            [
             1,
             "#f0f921"
            ]
           ]
          },
          "colorway": [
           "#636efa",
           "#EF553B",
           "#00cc96",
           "#ab63fa",
           "#FFA15A",
           "#19d3f3",
           "#FF6692",
           "#B6E880",
           "#FF97FF",
           "#FECB52"
          ],
          "font": {
           "color": "#2a3f5f"
          },
          "geo": {
           "bgcolor": "white",
           "lakecolor": "white",
           "landcolor": "#E5ECF6",
           "showlakes": true,
           "showland": true,
           "subunitcolor": "white"
          },
          "hoverlabel": {
           "align": "left"
          },
          "hovermode": "closest",
          "mapbox": {
           "style": "light"
          },
          "paper_bgcolor": "white",
          "plot_bgcolor": "#E5ECF6",
          "polar": {
           "angularaxis": {
            "gridcolor": "white",
            "linecolor": "white",
            "ticks": ""
           },
           "bgcolor": "#E5ECF6",
           "radialaxis": {
            "gridcolor": "white",
            "linecolor": "white",
            "ticks": ""
           }
          },
          "scene": {
           "xaxis": {
            "backgroundcolor": "#E5ECF6",
            "gridcolor": "white",
            "gridwidth": 2,
            "linecolor": "white",
            "showbackground": true,
            "ticks": "",
            "zerolinecolor": "white"
           },
           "yaxis": {
            "backgroundcolor": "#E5ECF6",
            "gridcolor": "white",
            "gridwidth": 2,
            "linecolor": "white",
            "showbackground": true,
            "ticks": "",
            "zerolinecolor": "white"
           },
           "zaxis": {
            "backgroundcolor": "#E5ECF6",
            "gridcolor": "white",
            "gridwidth": 2,
            "linecolor": "white",
            "showbackground": true,
            "ticks": "",
            "zerolinecolor": "white"
           }
          },
          "shapedefaults": {
           "line": {
            "color": "#2a3f5f"
           }
          },
          "ternary": {
           "aaxis": {
            "gridcolor": "white",
            "linecolor": "white",
            "ticks": ""
           },
           "baxis": {
            "gridcolor": "white",
            "linecolor": "white",
            "ticks": ""
           },
           "bgcolor": "#E5ECF6",
           "caxis": {
            "gridcolor": "white",
            "linecolor": "white",
            "ticks": ""
           }
          },
          "title": {
           "x": 0.05
          },
          "xaxis": {
           "automargin": true,
           "gridcolor": "white",
           "linecolor": "white",
           "ticks": "",
           "title": {
            "standoff": 15
           },
           "zerolinecolor": "white",
           "zerolinewidth": 2
          },
          "yaxis": {
           "automargin": true,
           "gridcolor": "white",
           "linecolor": "white",
           "ticks": "",
           "title": {
            "standoff": 15
           },
           "zerolinecolor": "white",
           "zerolinewidth": 2
          }
         }
        },
        "title": {
         "text": "Members by Priority Tier and Text Opt-in"
        },
        "xaxis": {
         "anchor": "y",
         "domain": [
          0,
          1
         ],
         "title": {
          "text": "outreach_priority"
         }
        },
        "yaxis": {
         "anchor": "x",
         "domain": [
          0,
          1
         ],
         "title": {
          "text": "count"
         }
        }
       }
      }
     },
     "metadata": {},
     "output_type": "display_data"
    },
    {
     "data": {
      "application/vnd.plotly.v1+json": {
       "config": {
        "plotlyServerURL": "https://plot.ly"
       },
       "data": [
        {
         "bingroup": "x",
         "hovertemplate": "outreach_score=%{x}<br>count=%{y}<extra></extra>",
         "legendgroup": "",
         "marker": {
          "color": "#636efa",
          "pattern": {
           "shape": ""
          }
         },
         "name": "",
         "nbinsx": 40,
         "orientation": "v",
         "showlegend": false,
         "type": "histogram",
         "x": {
          "bdata": "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",
          "dtype": "f8"
         },
         "xaxis": "x",
         "yaxis": "y"
        }
       ],
       "layout": {
        "barmode": "relative",
        "legend": {
         "tracegroupgap": 0
        },
        "template": {
         "data": {
          "bar": [
           {
            "error_x": {
             "color": "#2a3f5f"
            },
            "error_y": {
             "color": "#2a3f5f"
            },
            "marker": {
             "line": {
              "color": "#E5ECF6",
              "width": 0.5
             },
             "pattern": {
              "fillmode": "overlay",
              "size": 10,
              "solidity": 0.2
             }
            },
            "type": "bar"
           }
          ],
          "barpolar": [
           {
            "marker": {
             "line": {
              "color": "#E5ECF6",
              "width": 0.5
             },
             "pattern": {
              "fillmode": "overlay",
              "size": 10,
              "solidity": 0.2
             }
            },
            "type": "barpolar"
           }
          ],
          "carpet": [
           {
            "aaxis": {
             "endlinecolor": "#2a3f5f",
             "gridcolor": "white",
             "linecolor": "white",
             "minorgridcolor": "white",
             "startlinecolor": "#2a3f5f"
            },
            "baxis": {
             "endlinecolor": "#2a3f5f",
             "gridcolor": "white",
             "linecolor": "white",
             "minorgridcolor": "white",
             "startlinecolor": "#2a3f5f"
            },
            "type": "carpet"
           }
          ],
          "choropleth": [
           {
            "colorbar": {
             "outlinewidth": 0,
             "ticks": ""
            },
            "type": "choropleth"
           }
          ],
          "contour": [
           {
            "colorbar": {
             "outlinewidth": 0,
             "ticks": ""
            },
            "colorscale": [
             [
              0,
              "#0d0887"
             ],
             [
              0.1111111111111111,
              "#46039f"
             ],
             [
              0.2222222222222222,
              "#7201a8"
             ],
             [
              0.3333333333333333,
              "#9c179e"
             ],
             [
              0.4444444444444444,
              "#bd3786"
             ],
             [
              0.5555555555555556,
              "#d8576b"
             ],
             [
              0.6666666666666666,
              "#ed7953"
             ],
             [
              0.7777777777777778,
              "#fb9f3a"
             ],
             [
              0.8888888888888888,
              "#fdca26"
             ],
             [
              1,
              "#f0f921"
             ]
            ],
            "type": "contour"
           }
          ],
          "contourcarpet": [
           {
            "colorbar": {
             "outlinewidth": 0,
             "ticks": ""
            },
            "type": "contourcarpet"
           }
          ],
          "heatmap": [
           {
            "colorbar": {
             "outlinewidth": 0,
             "ticks": ""
            },
            "colorscale": [
             [
              0,
              "#0d0887"
             ],
             [
              0.1111111111111111,
              "#46039f"
             ],
             [
              0.2222222222222222,
              "#7201a8"
             ],
             [
              0.3333333333333333,
              "#9c179e"
             ],
             [
              0.4444444444444444,
              "#bd3786"
             ],
             [
              0.5555555555555556,
              "#d8576b"
             ],
             [
              0.6666666666666666,
              "#ed7953"
             ],
             [
              0.7777777777777778,
              "#fb9f3a"
             ],
             [
              0.8888888888888888,
              "#fdca26"
             ],
             [
              1,
              "#f0f921"
             ]
            ],
            "type": "heatmap"
           }
          ],
          "histogram": [
           {
            "marker": {
             "pattern": {
              "fillmode": "overlay",
              "size": 10,
              "solidity": 0.2
             }
            },
            "type": "histogram"
           }
          ],
          "histogram2d": [
           {
            "colorbar": {
             "outlinewidth": 0,
             "ticks": ""
            },
            "colorscale": [
             [
              0,
              "#0d0887"
             ],
             [
              0.1111111111111111,
              "#46039f"
             ],
             [
              0.2222222222222222,
              "#7201a8"
             ],
             [
              0.3333333333333333,
              "#9c179e"
             ],
             [
              0.4444444444444444,
              "#bd3786"
             ],
             [
              0.5555555555555556,
              "#d8576b"
             ],
             [
              0.6666666666666666,
              "#ed7953"
             ],
             [
              0.7777777777777778,
              "#fb9f3a"
             ],
             [
              0.8888888888888888,
              "#fdca26"
             ],
             [
              1,
              "#f0f921"
             ]
            ],
            "type": "histogram2d"
           }
          ],
          "histogram2dcontour": [
           {
            "colorbar": {
             "outlinewidth": 0,
             "ticks": ""
            },
            "colorscale": [
             [
              0,
              "#0d0887"
             ],
             [
              0.1111111111111111,
              "#46039f"
             ],
             [
              0.2222222222222222,
              "#7201a8"
             ],
             [
              0.3333333333333333,
              "#9c179e"
             ],
             [
              0.4444444444444444,
              "#bd3786"
             ],
             [
              0.5555555555555556,
              "#d8576b"
             ],
             [
              0.6666666666666666,
              "#ed7953"
             ],
             [
              0.7777777777777778,
              "#fb9f3a"
             ],
             [
              0.8888888888888888,
              "#fdca26"
             ],
             [
              1,
              "#f0f921"
             ]
            ],
            "type": "histogram2dcontour"
           }
          ],
          "mesh3d": [
           {
            "colorbar": {
             "outlinewidth": 0,
             "ticks": ""
            },
            "type": "mesh3d"
           }
          ],
          "parcoords": [
           {
            "line": {
             "colorbar": {
              "outlinewidth": 0,
              "ticks": ""
             }
            },
            "type": "parcoords"
           }
          ],
          "pie": [
           {
            "automargin": true,
            "type": "pie"
           }
          ],
          "scatter": [
           {
            "fillpattern": {
             "fillmode": "overlay",
             "size": 10,
             "solidity": 0.2
            },
            "type": "scatter"
           }
          ],
          "scatter3d": [
           {
            "line": {
             "colorbar": {
              "outlinewidth": 0,
              "ticks": ""
             }
            },
            "marker": {
             "colorbar": {
              "outlinewidth": 0,
              "ticks": ""
             }
            },
            "type": "scatter3d"
           }
          ],
          "scattercarpet": [
           {
            "marker": {
             "colorbar": {
              "outlinewidth": 0,
              "ticks": ""
             }
            },
            "type": "scattercarpet"
           }
          ],
          "scattergeo": [
           {
            "marker": {
             "colorbar": {
              "outlinewidth": 0,
              "ticks": ""
             }
            },
            "type": "scattergeo"
           }
          ],
          "scattergl": [
           {
            "marker": {
             "colorbar": {
              "outlinewidth": 0,
              "ticks": ""
             }
            },
            "type": "scattergl"
           }
          ],
          "scattermap": [
           {
            "marker": {
             "colorbar": {
              "outlinewidth": 0,
              "ticks": ""
             }
            },
            "type": "scattermap"
           }
          ],
          "scattermapbox": [
           {
            "marker": {
             "colorbar": {
              "outlinewidth": 0,
              "ticks": ""
             }
            },
            "type": "scattermapbox"
           }
          ],
          "scatterpolar": [
           {
            "marker": {
             "colorbar": {
              "outlinewidth": 0,
              "ticks": ""
             }
            },
            "type": "scatterpolar"
           }
          ],
          "scatterpolargl": [
           {
            "marker": {
             "colorbar": {
              "outlinewidth": 0,
              "ticks": ""
             }
            },
            "type": "scatterpolargl"
           }
          ],
          "scatterternary": [
           {
            "marker": {
             "colorbar": {
              "outlinewidth": 0,
              "ticks": ""
             }
            },
            "type": "scatterternary"
           }
          ],
          "surface": [
           {
            "colorbar": {
             "outlinewidth": 0,
             "ticks": ""
            },
            "colorscale": [
             [
              0,
              "#0d0887"
             ],
             [
              0.1111111111111111,
              "#46039f"
             ],
             [
              0.2222222222222222,
              "#7201a8"
             ],
             [
              0.3333333333333333,
              "#9c179e"
             ],
             [
              0.4444444444444444,
              "#bd3786"
             ],
             [
              0.5555555555555556,
              "#d8576b"
             ],
             [
              0.6666666666666666,
              "#ed7953"
             ],
             [
              0.7777777777777778,
              "#fb9f3a"
             ],
             [
              0.8888888888888888,
              "#fdca26"
             ],
             [
              1,
              "#f0f921"
             ]
            ],
            "type": "surface"
           }
          ],
          "table": [
           {
            "cells": {
             "fill": {
              "color": "#EBF0F8"
             },
             "line": {
              "color": "white"
             }
            },
            "header": {
             "fill": {
              "color": "#C8D4E3"
             },
             "line": {
              "color": "white"
             }
            },
            "type": "table"
           }
          ]
         },
         "layout": {
          "annotationdefaults": {
           "arrowcolor": "#2a3f5f",
           "arrowhead": 0,
           "arrowwidth": 1
          },
          "autotypenumbers": "strict",
          "coloraxis": {
           "colorbar": {
            "outlinewidth": 0,
            "ticks": ""
           }
          },
          "colorscale": {
           "diverging": [
            [
             0,
             "#8e0152"
            ],
            [
             0.1,
             "#c51b7d"
            ],
            [
             0.2,
             "#de77ae"
            ],
            [
             0.3,
             "#f1b6da"
            ],
            [
             0.4,
             "#fde0ef"
            ],
            [
             0.5,
             "#f7f7f7"
            ],
            [
             0.6,
             "#e6f5d0"
            ],
            [
             0.7,
             "#b8e186"
            ],
            [
             0.8,
             "#7fbc41"
            ],
            [
             0.9,
             "#4d9221"
            ],
            [
             1,
             "#276419"
            ]
           ],
           "sequential": [
            [
             0,
             "#0d0887"
            ],
            [
             0.1111111111111111,
             "#46039f"
            ],
            [
             0.2222222222222222,
             "#7201a8"
            ],
            [
             0.3333333333333333,
             "#9c179e"
            ],
            [
             0.4444444444444444,
             "#bd3786"
            ],
            [
             0.5555555555555556,
             "#d8576b"
            ],
            [
             0.6666666666666666,
             "#ed7953"
            ],
            [
             0.7777777777777778,
             "#fb9f3a"
            ],
            [
             0.8888888888888888,
             "#fdca26"
            ],
            [
             1,
             "#f0f921"
            ]
           ],
           "sequentialminus": [
            [
             0,
             "#0d0887"
            ],
            [
             0.1111111111111111,
             "#46039f"
            ],
            [
             0.2222222222222222,
             "#7201a8"
            ],
            [
             0.3333333333333333,
             "#9c179e"
            ],
            [
             0.4444444444444444,
             "#bd3786"
            ],
            [
             0.5555555555555556,
             "#d8576b"
            ],
            [
             0.6666666666666666,
             "#ed7953"
            ],
            [
             0.7777777777777778,
             "#fb9f3a"
            ],
            [
             0.8888888888888888,
             "#fdca26"
            ],
            [
             1,
             "#f0f921"
            ]
           ]
          },
          "colorway": [
           "#636efa",
           "#EF553B",
           "#00cc96",
           "#ab63fa",
           "#FFA15A",
           "#19d3f3",
           "#FF6692",
           "#B6E880",
           "#FF97FF",
           "#FECB52"
          ],
          "font": {
           "color": "#2a3f5f"
          },
          "geo": {
           "bgcolor": "white",
           "lakecolor": "white",
           "landcolor": "#E5ECF6",
           "showlakes": true,
           "showland": true,
           "subunitcolor": "white"
          },
          "hoverlabel": {
           "align": "left"
          },
          "hovermode": "closest",
          "mapbox": {
           "style": "light"
          },
          "paper_bgcolor": "white",
          "plot_bgcolor": "#E5ECF6",
          "polar": {
           "angularaxis": {
            "gridcolor": "white",
            "linecolor": "white",
            "ticks": ""
           },
           "bgcolor": "#E5ECF6",
           "radialaxis": {
            "gridcolor": "white",
            "linecolor": "white",
            "ticks": ""
           }
          },
          "scene": {
           "xaxis": {
            "backgroundcolor": "#E5ECF6",
            "gridcolor": "white",
            "gridwidth": 2,
            "linecolor": "white",
            "showbackground": true,
            "ticks": "",
            "zerolinecolor": "white"
           },
           "yaxis": {
            "backgroundcolor": "#E5ECF6",
            "gridcolor": "white",
            "gridwidth": 2,
            "linecolor": "white",
            "showbackground": true,
            "ticks": "",
            "zerolinecolor": "white"
           },
           "zaxis": {
            "backgroundcolor": "#E5ECF6",
            "gridcolor": "white",
            "gridwidth": 2,
            "linecolor": "white",
            "showbackground": true,
            "ticks": "",
            "zerolinecolor": "white"
           }
          },
          "shapedefaults": {
           "line": {
            "color": "#2a3f5f"
           }
          },
          "ternary": {
           "aaxis": {
            "gridcolor": "white",
            "linecolor": "white",
            "ticks": ""
           },
           "baxis": {
            "gridcolor": "white",
            "linecolor": "white",
            "ticks": ""
           },
           "bgcolor": "#E5ECF6",
           "caxis": {
            "gridcolor": "white",
            "linecolor": "white",
            "ticks": ""
           }
          },
          "title": {
           "x": 0.05
          },
          "xaxis": {
           "automargin": true,
           "gridcolor": "white",
           "linecolor": "white",
           "ticks": "",
           "title": {
            "standoff": 15
           },
           "zerolinecolor": "white",
           "zerolinewidth": 2
          },
          "yaxis": {
           "automargin": true,
           "gridcolor": "white",
           "linecolor": "white",
           "ticks": "",
           "title": {
            "standoff": 15
           },
           "zerolinecolor": "white",
           "zerolinewidth": 2
          }
         }
        },
        "title": {
         "text": "Outreach Score Distribution"
        },
        "xaxis": {
         "anchor": "y",
         "domain": [
          0,
          1
         ],
         "title": {
          "text": "outreach_score"
         }
        },
        "yaxis": {
         "anchor": "x",
         "domain": [
          0,
          1
         ],
         "title": {
          "text": "count"
         }
        }
       }
      }
     },
     "metadata": {},
     "output_type": "display_data"
    }
   ],
   "source": [
    "import plotly.express as px\n",
    "\n",
    "df_bar = df.assign(text_opt_in_label=np.where(df[\"text_opt_in\"]==1, \"Opt-in\", \"No Opt-in\"))\n",
    "\n",
    "fig_donut = px.pie(\n",
    "    df, names=\"outreach_priority\", hole=0.45,\n",
    "    title=\"Outreach Priority Distribution (Unmanaged D-SNP)\"\n",
    ")\n",
    "fig_bar = px.bar(\n",
    "    df_bar, x=\"outreach_priority\", color=\"text_opt_in_label\", barmode=\"stack\",\n",
    "    title=\"Members by Priority Tier and Text Opt-in\"\n",
    ")\n",
    "fig_hist = px.histogram(\n",
    "    df, x=\"outreach_score\", nbins=40, title=\"Outreach Score Distribution\"\n",
    ")\n",
    "\n",
    "fig_donut.show(); fig_bar.show(); fig_hist.show()\n"
   ]
  },
  {
   "cell_type": "code",
   "execution_count": 27,
   "id": "ca99cd08",
   "metadata": {},
   "outputs": [
    {
     "data": {
      "text/plain": [
       "WindowsPath('c:/Users/eluje/OneDrive/Documents/Lujean Important Docs/Portfolio-Mock Projects/lujean-portfolio1/documents/sms_dashboard_plotly.html')"
      ]
     },
     "execution_count": 27,
     "metadata": {},
     "output_type": "execute_result"
    }
   ],
   "source": [
    "HTML_PATH = DOCS_DIR / \"sms_dashboard_plotly.html\"\n",
    "\n",
    "with open(HTML_PATH, \"w\", encoding=\"utf-8\") as f:\n",
    "    f.write(\"<!doctype html><meta charset='utf-8'><title>SMS Outreach Dashboard</title>\")\n",
    "    f.write(\"<h2>SMS Outreach Dashboard (Interactive)</h2>\")\n",
    "    f.write(fig_donut.to_html(full_html=False, include_plotlyjs=\"cdn\"))\n",
    "    f.write(fig_bar.to_html(full_html=False, include_plotlyjs=False))\n",
    "    f.write(fig_hist.to_html(full_html=False, include_plotlyjs=False))\n",
    "\n",
    "HTML_PATH\n"
   ]
  },
  {
   "cell_type": "code",
   "execution_count": 28,
   "id": "fd0dea34",
   "metadata": {},
   "outputs": [
    {
     "data": {
      "text/plain": [
       "WindowsPath('c:/Users/eluje/OneDrive/Documents/Lujean Important Docs/Portfolio-Mock Projects/lujean-portfolio1/data/sms_outreach_ranked.csv')"
      ]
     },
     "execution_count": 28,
     "metadata": {},
     "output_type": "execute_result"
    }
   ],
   "source": [
    "ranked_csv = DATA_DIR / \"sms_outreach_ranked.csv\"\n",
    "df.sort_values(\"outreach_score\", ascending=False).to_csv(ranked_csv, index=False)\n",
    "ranked_csv\n"
   ]
  }
 ],
 "metadata": {
  "kernelspec": {
   "display_name": "Python 3",
   "language": "python",
   "name": "python3"
  },
  "language_info": {
   "codemirror_mode": {
    "name": "ipython",
    "version": 3
   },
   "file_extension": ".py",
   "mimetype": "text/x-python",
   "name": "python",
   "nbconvert_exporter": "python",
   "pygments_lexer": "ipython3",
   "version": "3.13.5"
  }
 },
 "nbformat": 4,
 "nbformat_minor": 5
}
